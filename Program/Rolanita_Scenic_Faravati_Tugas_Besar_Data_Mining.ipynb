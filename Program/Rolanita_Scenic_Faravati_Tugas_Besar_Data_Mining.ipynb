{
  "nbformat": 4,
  "nbformat_minor": 0,
  "metadata": {
    "colab": {
      "name": "18102069-Rolanita Scenic Faravati-Tugas Besar Data Mining.ipynb",
      "provenance": [],
      "collapsed_sections": [
        "fSfeV2myyNSM",
        "lq2x6XtBw9eP",
        "ZbcvDspsyxPQ",
        "qSSYS0zbzufy",
        "pvtCRRk-0A1e",
        "o--eQuFh3mNG",
        "UqzgR_-J4PnG",
        "0b_Nfshs465p",
        "TY1macpo48Ps",
        "tujUiKta4ujQ",
        "HbYBzfc_5Qqs",
        "MYToPnUQ5k7O"
      ]
    },
    "kernelspec": {
      "name": "python3",
      "display_name": "Python 3"
    },
    "language_info": {
      "name": "python"
    }
  },
  "cells": [
    {
      "cell_type": "markdown",
      "metadata": {
        "id": "Ki7X8C3gwj0J"
      },
      "source": [
        "Nama: Rolanita Scenic Faravati\n",
        "\n",
        "NIM: 18102069\n",
        "\n",
        "Kelas: S1IF-06-SC1"
      ]
    },
    {
      "cell_type": "markdown",
      "metadata": {
        "id": "NZcCT-s7wpjO"
      },
      "source": [
        "PREDIKSI TREN HARGA CLOSE SAHAM TELKOMSEL DENGAN REGRESI LINEAR"
      ]
    },
    {
      "cell_type": "markdown",
      "metadata": {
        "id": "fSfeV2myyNSM"
      },
      "source": [
        "#Akusisi Data"
      ]
    },
    {
      "cell_type": "markdown",
      "metadata": {
        "id": "9OIleqBXyOzo"
      },
      "source": [
        "<p>Cara mendapatkan data dengan melakukan pengunduhan pada website https://finance.yahoo.com/</p>\n",
        "<p>Data yang digunakan adalah data sekunder, yaitu data saham telkomsel yang memiliki 1381 record\n"
      ]
    },
    {
      "cell_type": "markdown",
      "metadata": {
        "id": "lq2x6XtBw9eP"
      },
      "source": [
        "#Library"
      ]
    },
    {
      "cell_type": "code",
      "metadata": {
        "colab": {
          "base_uri": "https://localhost:8080/"
        },
        "id": "C16PWXYbxaKz",
        "outputId": "93c489b7-0e3d-496a-d495-b2201e943594"
      },
      "source": [
        "!pip install scikit-learn\n",
        "!pip install matplotlib-venn\n",
        "!pip install scipy"
      ],
      "execution_count": 904,
      "outputs": [
        {
          "output_type": "stream",
          "text": [
            "Requirement already satisfied: scikit-learn in /usr/local/lib/python3.7/dist-packages (0.22.2.post1)\n",
            "Requirement already satisfied: joblib>=0.11 in /usr/local/lib/python3.7/dist-packages (from scikit-learn) (1.0.1)\n",
            "Requirement already satisfied: scipy>=0.17.0 in /usr/local/lib/python3.7/dist-packages (from scikit-learn) (1.4.1)\n",
            "Requirement already satisfied: numpy>=1.11.0 in /usr/local/lib/python3.7/dist-packages (from scikit-learn) (1.19.5)\n",
            "Requirement already satisfied: matplotlib-venn in /usr/local/lib/python3.7/dist-packages (0.11.6)\n",
            "Requirement already satisfied: scipy in /usr/local/lib/python3.7/dist-packages (from matplotlib-venn) (1.4.1)\n",
            "Requirement already satisfied: numpy in /usr/local/lib/python3.7/dist-packages (from matplotlib-venn) (1.19.5)\n",
            "Requirement already satisfied: matplotlib in /usr/local/lib/python3.7/dist-packages (from matplotlib-venn) (3.2.2)\n",
            "Requirement already satisfied: pyparsing!=2.0.4,!=2.1.2,!=2.1.6,>=2.0.1 in /usr/local/lib/python3.7/dist-packages (from matplotlib->matplotlib-venn) (2.4.7)\n",
            "Requirement already satisfied: cycler>=0.10 in /usr/local/lib/python3.7/dist-packages (from matplotlib->matplotlib-venn) (0.10.0)\n",
            "Requirement already satisfied: kiwisolver>=1.0.1 in /usr/local/lib/python3.7/dist-packages (from matplotlib->matplotlib-venn) (1.3.1)\n",
            "Requirement already satisfied: python-dateutil>=2.1 in /usr/local/lib/python3.7/dist-packages (from matplotlib->matplotlib-venn) (2.8.1)\n",
            "Requirement already satisfied: six in /usr/local/lib/python3.7/dist-packages (from cycler>=0.10->matplotlib->matplotlib-venn) (1.15.0)\n",
            "Requirement already satisfied: scipy in /usr/local/lib/python3.7/dist-packages (1.4.1)\n",
            "Requirement already satisfied: numpy>=1.13.3 in /usr/local/lib/python3.7/dist-packages (from scipy) (1.19.5)\n"
          ],
          "name": "stdout"
        }
      ]
    },
    {
      "cell_type": "code",
      "metadata": {
        "id": "n52M6ZSjv4EU"
      },
      "source": [
        "import pandas as pd # library untuk mengelola dataframe\n",
        "import math # library rumus matematika\n",
        "import numpy as np # library operasi angka (array dan nan)\n",
        "\n",
        "# library untuk plot grafik\n",
        "import matplotlib.pyplot as plt\n",
        "from matplotlib import style\n",
        "import datetime # library untuk mengelola tanggal dan waktu"
      ],
      "execution_count": 905,
      "outputs": []
    },
    {
      "cell_type": "markdown",
      "metadata": {
        "id": "ZbcvDspsyxPQ"
      },
      "source": [
        "#Exploratory Data Analysis"
      ]
    },
    {
      "cell_type": "code",
      "metadata": {
        "id": "0iI9RzD7y0cA"
      },
      "source": [
        "dataset_telkom = pd.read_csv(\"TLKM.JK.csv\")"
      ],
      "execution_count": 906,
      "outputs": []
    },
    {
      "cell_type": "markdown",
      "metadata": {
        "id": "1tSywlxHy-4x"
      },
      "source": [
        "##Menampilkan data, kolom, dan tipe data"
      ]
    },
    {
      "cell_type": "code",
      "metadata": {
        "colab": {
          "base_uri": "https://localhost:8080/"
        },
        "id": "suWI4v1izCrs",
        "outputId": "7a98fcaa-e4bd-44db-872c-b0f7d2cdc189"
      },
      "source": [
        "# Tampil Telkom\n",
        "print(dataset_telkom)"
      ],
      "execution_count": 907,
      "outputs": [
        {
          "output_type": "stream",
          "text": [
            "            Date    Open    High     Low   Close    Adj Close       Volume\n",
            "0     2015-01-02  2885.0  2885.0  2850.0  2860.0  2430.012939   18992100.0\n",
            "1     2015-01-05  2850.0  2850.0  2820.0  2835.0  2408.771484   49940700.0\n",
            "2     2015-01-06  2810.0  2835.0  2800.0  2815.0  2391.778809   47892100.0\n",
            "3     2015-01-07  2865.0  2870.0  2795.0  2810.0  2387.530518   70076600.0\n",
            "4     2015-01-08  2840.0  2845.0  2825.0  2835.0  2408.771484   56582500.0\n",
            "...          ...     ...     ...     ...     ...          ...          ...\n",
            "1642  2021-07-26  3140.0  3200.0  3140.0  3190.0  3190.000000   55525800.0\n",
            "1643  2021-07-27  3210.0  3270.0  3160.0  3270.0  3270.000000   62673400.0\n",
            "1644  2021-07-28  3250.0  3250.0  3150.0  3190.0  3190.000000  103282300.0\n",
            "1645  2021-07-29  3210.0  3290.0  3200.0  3230.0  3230.000000  126542400.0\n",
            "1646  2021-07-30  3200.0  3290.0  3200.0  3240.0  3240.000000   95143100.0\n",
            "\n",
            "[1647 rows x 7 columns]\n"
          ],
          "name": "stdout"
        }
      ]
    },
    {
      "cell_type": "code",
      "metadata": {
        "colab": {
          "base_uri": "https://localhost:8080/"
        },
        "id": "a3A9hw6czIAP",
        "outputId": "647be107-968f-4e9a-813a-96758e63312e"
      },
      "source": [
        "# Akses data Kolom Telkom\n",
        "print(dataset_telkom.columns)"
      ],
      "execution_count": 908,
      "outputs": [
        {
          "output_type": "stream",
          "text": [
            "Index(['Date', 'Open', 'High', 'Low', 'Close', 'Adj Close', 'Volume'], dtype='object')\n"
          ],
          "name": "stdout"
        }
      ]
    },
    {
      "cell_type": "markdown",
      "metadata": {
        "id": "VOFfKPiMzN1d"
      },
      "source": [
        "Note : Pada dataset saham telkomsel terdapat : 7 kolom, dimana 6 kolom merupakan data numerik dan 1 kolom merupakan data interval."
      ]
    },
    {
      "cell_type": "code",
      "metadata": {
        "colab": {
          "base_uri": "https://localhost:8080/"
        },
        "id": "rWpyppHvzSqt",
        "outputId": "2770ec59-4441-4782-ae88-e6c8ad0e06aa"
      },
      "source": [
        "# Tipe Data\n",
        "dataset_telkom.dtypes"
      ],
      "execution_count": 909,
      "outputs": [
        {
          "output_type": "execute_result",
          "data": {
            "text/plain": [
              "Date          object\n",
              "Open         float64\n",
              "High         float64\n",
              "Low          float64\n",
              "Close        float64\n",
              "Adj Close    float64\n",
              "Volume       float64\n",
              "dtype: object"
            ]
          },
          "metadata": {
            "tags": []
          },
          "execution_count": 909
        }
      ]
    },
    {
      "cell_type": "markdown",
      "metadata": {
        "id": "5zgT-sfjzdMK"
      },
      "source": [
        "## Memeriksa Missing Value"
      ]
    },
    {
      "cell_type": "code",
      "metadata": {
        "colab": {
          "base_uri": "https://localhost:8080/"
        },
        "id": "qw1U1X9QzXmh",
        "outputId": "3a3e9149-f505-4943-9e4c-8863a8b8b250"
      },
      "source": [
        "# Memeriksa informasi variabel, termasuk ada yang null atau tidak\n",
        "print(\"Informasi Variabel Saham Telkomsel\\n\")\n",
        "dataset_telkom.info()"
      ],
      "execution_count": 910,
      "outputs": [
        {
          "output_type": "stream",
          "text": [
            "Informasi Variabel Saham Telkomsel\n",
            "\n",
            "<class 'pandas.core.frame.DataFrame'>\n",
            "RangeIndex: 1647 entries, 0 to 1646\n",
            "Data columns (total 7 columns):\n",
            " #   Column     Non-Null Count  Dtype  \n",
            "---  ------     --------------  -----  \n",
            " 0   Date       1647 non-null   object \n",
            " 1   Open       1646 non-null   float64\n",
            " 2   High       1646 non-null   float64\n",
            " 3   Low        1646 non-null   float64\n",
            " 4   Close      1646 non-null   float64\n",
            " 5   Adj Close  1646 non-null   float64\n",
            " 6   Volume     1646 non-null   float64\n",
            "dtypes: float64(6), object(1)\n",
            "memory usage: 90.2+ KB\n"
          ],
          "name": "stdout"
        }
      ]
    },
    {
      "cell_type": "markdown",
      "metadata": {
        "id": "A10PgaqqzlsI"
      },
      "source": [
        "Terlihat bahwa pada setiap variabel yang ada pada dataset saham telkomsel tidak ada data yang null/kosong/missing.\n",
        "\n",
        "Tipe variabel Date adalah object. Kemudian pada variabel Open, High, Low, Close, Adj Close, dan Volume adalah float (float64)"
      ]
    },
    {
      "cell_type": "markdown",
      "metadata": {
        "id": "qSSYS0zbzufy"
      },
      "source": [
        "##Statistik Data"
      ]
    },
    {
      "cell_type": "markdown",
      "metadata": {
        "id": "sR72FTbhzyYm"
      },
      "source": [
        "**Informasi statistik data dengan NumPy**\n",
        "<p>Mengetahui informasi statistik pada suatu data sangat penting. Mulai dari distribusi data, nilai max atau min, hingga standar deviasi dari suatu dataset. Jika datanya berjumlah dibawah 10 mungkin masih dikerjakan secara manual. Namun, bayangkan jika datanya sudah mencapai ratusan bahkan ribuan. Tidak mungkin pastinya untuk dilakukan secara manual.\n",
        "Maka dari itu pentingnya fungsi describe() pada pandas.\n",
        "Fungsi describe() ini memungkinkan untuk mengetahui informasi statistik dari suatu dataset secara cepat."
      ]
    },
    {
      "cell_type": "code",
      "metadata": {
        "colab": {
          "base_uri": "https://localhost:8080/",
          "height": 0
        },
        "id": "8cHJIaVKzzMY",
        "outputId": "15d4d440-2ee6-4ec6-c75b-0659d1f5b02b"
      },
      "source": [
        "# Data Telkomsel\n",
        "dataset_telkom.describe()"
      ],
      "execution_count": 911,
      "outputs": [
        {
          "output_type": "execute_result",
          "data": {
            "text/html": [
              "<div>\n",
              "<style scoped>\n",
              "    .dataframe tbody tr th:only-of-type {\n",
              "        vertical-align: middle;\n",
              "    }\n",
              "\n",
              "    .dataframe tbody tr th {\n",
              "        vertical-align: top;\n",
              "    }\n",
              "\n",
              "    .dataframe thead th {\n",
              "        text-align: right;\n",
              "    }\n",
              "</style>\n",
              "<table border=\"1\" class=\"dataframe\">\n",
              "  <thead>\n",
              "    <tr style=\"text-align: right;\">\n",
              "      <th></th>\n",
              "      <th>Open</th>\n",
              "      <th>High</th>\n",
              "      <th>Low</th>\n",
              "      <th>Close</th>\n",
              "      <th>Adj Close</th>\n",
              "      <th>Volume</th>\n",
              "    </tr>\n",
              "  </thead>\n",
              "  <tbody>\n",
              "    <tr>\n",
              "      <th>count</th>\n",
              "      <td>1646.000000</td>\n",
              "      <td>1646.000000</td>\n",
              "      <td>1646.000000</td>\n",
              "      <td>1646.000000</td>\n",
              "      <td>1646.000000</td>\n",
              "      <td>1.646000e+03</td>\n",
              "    </tr>\n",
              "    <tr>\n",
              "      <th>mean</th>\n",
              "      <td>3635.015188</td>\n",
              "      <td>3674.070474</td>\n",
              "      <td>3597.010936</td>\n",
              "      <td>3634.428919</td>\n",
              "      <td>3238.207469</td>\n",
              "      <td>9.497971e+07</td>\n",
              "    </tr>\n",
              "    <tr>\n",
              "      <th>std</th>\n",
              "      <td>548.233901</td>\n",
              "      <td>548.511984</td>\n",
              "      <td>547.887345</td>\n",
              "      <td>549.849393</td>\n",
              "      <td>488.342758</td>\n",
              "      <td>6.075847e+07</td>\n",
              "    </tr>\n",
              "    <tr>\n",
              "      <th>min</th>\n",
              "      <td>2550.000000</td>\n",
              "      <td>2590.000000</td>\n",
              "      <td>2450.000000</td>\n",
              "      <td>2560.000000</td>\n",
              "      <td>2220.499268</td>\n",
              "      <td>0.000000e+00</td>\n",
              "    </tr>\n",
              "    <tr>\n",
              "      <th>25%</th>\n",
              "      <td>3186.250000</td>\n",
              "      <td>3226.250000</td>\n",
              "      <td>3140.000000</td>\n",
              "      <td>3180.000000</td>\n",
              "      <td>2894.071289</td>\n",
              "      <td>5.871052e+07</td>\n",
              "    </tr>\n",
              "    <tr>\n",
              "      <th>50%</th>\n",
              "      <td>3720.000000</td>\n",
              "      <td>3770.000000</td>\n",
              "      <td>3690.000000</td>\n",
              "      <td>3725.000000</td>\n",
              "      <td>3310.509277</td>\n",
              "      <td>8.290965e+07</td>\n",
              "    </tr>\n",
              "    <tr>\n",
              "      <th>75%</th>\n",
              "      <td>4050.000000</td>\n",
              "      <td>4090.000000</td>\n",
              "      <td>4020.000000</td>\n",
              "      <td>4067.500000</td>\n",
              "      <td>3586.716309</td>\n",
              "      <td>1.154930e+08</td>\n",
              "    </tr>\n",
              "    <tr>\n",
              "      <th>max</th>\n",
              "      <td>4800.000000</td>\n",
              "      <td>4840.000000</td>\n",
              "      <td>4780.000000</td>\n",
              "      <td>4800.000000</td>\n",
              "      <td>4251.280273</td>\n",
              "      <td>6.241426e+08</td>\n",
              "    </tr>\n",
              "  </tbody>\n",
              "</table>\n",
              "</div>"
            ],
            "text/plain": [
              "              Open         High  ...    Adj Close        Volume\n",
              "count  1646.000000  1646.000000  ...  1646.000000  1.646000e+03\n",
              "mean   3635.015188  3674.070474  ...  3238.207469  9.497971e+07\n",
              "std     548.233901   548.511984  ...   488.342758  6.075847e+07\n",
              "min    2550.000000  2590.000000  ...  2220.499268  0.000000e+00\n",
              "25%    3186.250000  3226.250000  ...  2894.071289  5.871052e+07\n",
              "50%    3720.000000  3770.000000  ...  3310.509277  8.290965e+07\n",
              "75%    4050.000000  4090.000000  ...  3586.716309  1.154930e+08\n",
              "max    4800.000000  4840.000000  ...  4251.280273  6.241426e+08\n",
              "\n",
              "[8 rows x 6 columns]"
            ]
          },
          "metadata": {
            "tags": []
          },
          "execution_count": 911
        }
      ]
    },
    {
      "cell_type": "markdown",
      "metadata": {
        "id": "RlPvw2cv0ADD"
      },
      "source": [
        "**Keterangan:**\n",
        "<p>Fungsi describe akan menampilkan informasi statistik untuk variabel numerik saja. Informasi statistik yang ditampilkan antara lain: \n",
        "<li>count menerangkan jumlah data\n",
        "<li>mean untuk rata-rata\n",
        "<li>std yaitu standar deviasi\n",
        "<li>min yaitu nilai paling kecil kolom tersebut\n",
        "<li>max adalah nilai terbesar kolom tersebut\n",
        "<li>kuartil 25%, 50%, 75%.\n",
        "<p>Fungsi describe tidak akan menampilkan informasi statistik untuk data bertipe object/ non numerik.\n",
        "<p>Terlihat diatas bahwa varibel Date tidak ada deskripsi statistiknya."
      ]
    },
    {
      "cell_type": "markdown",
      "metadata": {
        "id": "pvtCRRk-0A1e"
      },
      "source": [
        "##Kurva Skewness"
      ]
    },
    {
      "cell_type": "markdown",
      "metadata": {
        "id": "gBSTNoQe0D50"
      },
      "source": [
        "<p> Menunjukkan distribusi data/ sebaran data. Skewness dapat diartikan sebagai kemiringan data. Maksud Kemiringan data adalah besarnya pembagian data atau rata-rata sebaran data. Skewness yang berbentuk lonceng menunjukkan data terdistribusi normal.\n",
        "<p>Apabila kemiringan kurva skewness agak condong ke kanan ditunjukkan dengan nilai skewness yang negative,\n",
        "Apabila kemiringan distribusi data condong ke kiri yang ditunjukkan bahwa nilai skewness positif.\n",
        "<p>Apabila nilai skewness = 0, maka menunjukkan data berdistribusi normal,\n",
        "skewness < 0 kemiringan ke kanan, dan skewness > 0 kemiringan ke kiri.\n",
        "Sebagai contohnya, jika diperoleh nilai skewness = -0,807 maka skewness merupakan nilai negatif, akan tetapi tidak jauh dari nilai 0, berarti data cenderung berdistribusi normal atau hampir normal.\n",
        "<p>Dalam Python, bisa menggunakan fungsi sk dari scipy untuk menampilkan nilai skewness data.\n",
        "Jika belum menginstall scipy, lakukanimort scipy dahulu."
      ]
    },
    {
      "cell_type": "code",
      "metadata": {
        "id": "QmRzW1-h0Es-"
      },
      "source": [
        "# Library Kurva Skewness\n",
        "import scipy\n",
        "from scipy.stats import skew\n",
        "\n",
        "# Library Visualisasi\n",
        "import matplotlib.pyplot as plt\n",
        "import seaborn as sns"
      ],
      "execution_count": 912,
      "outputs": []
    },
    {
      "cell_type": "code",
      "metadata": {
        "colab": {
          "base_uri": "https://localhost:8080/"
        },
        "id": "3CDVWNdN0KKo",
        "outputId": "36fb76a2-8d1f-450d-b9ac-11beb8d445cd"
      },
      "source": [
        "# Kurva Skewness Saham Telkomsel\n",
        "data_tel = dataset_telkom.iloc[:,1:].fillna(-9999)\n",
        "print(\"skewness = \", scipy.stats.skew(data_tel))"
      ],
      "execution_count": 913,
      "outputs": [
        {
          "output_type": "stream",
          "text": [
            "skewness =  [-5.79657874 -5.83746483 -5.76221338 -5.7602349  -7.06757973  2.25980599]\n"
          ],
          "name": "stdout"
        }
      ]
    },
    {
      "cell_type": "markdown",
      "metadata": {
        "id": "1o6RYPgO28EX"
      },
      "source": [
        "Digunakan fillna(-9999) untuk mengisi kolom yang kosong. Hal ini bertujuan untuk dijadikan sebuah outlier."
      ]
    },
    {
      "cell_type": "code",
      "metadata": {
        "colab": {
          "base_uri": "https://localhost:8080/",
          "height": 0
        },
        "id": "EMIN33rG3QEs",
        "outputId": "eebf6fb3-2048-4f13-dde0-2c27a1edfa3b"
      },
      "source": [
        "# Visualisasi Skewness Saham Telkomsel\n",
        "data_tel = dataset_telkom.iloc[:,1:].fillna(-9999)\n",
        "for kolom in data_tel:\n",
        "    print(kolom)\n",
        "    print(skew(data_tel[kolom]))\n",
        "    \n",
        "    plt.figure\n",
        "    sns.distplot(data_tel[kolom])\n",
        "    plt.show()"
      ],
      "execution_count": 914,
      "outputs": [
        {
          "output_type": "stream",
          "text": [
            "Open\n",
            "-5.796578739439914\n"
          ],
          "name": "stdout"
        },
        {
          "output_type": "stream",
          "text": [
            "/usr/local/lib/python3.7/dist-packages/seaborn/distributions.py:2557: FutureWarning: `distplot` is a deprecated function and will be removed in a future version. Please adapt your code to use either `displot` (a figure-level function with similar flexibility) or `histplot` (an axes-level function for histograms).\n",
            "  warnings.warn(msg, FutureWarning)\n"
          ],
          "name": "stderr"
        },
        {
          "output_type": "display_data",
          "data": {
            "image/png": "[encoded data removed]",
            "text/plain": [
              "<Figure size 432x288 with 1 Axes>"
            ]
          },
          "metadata": {
            "tags": [],
            "needs_background": "light"
          }
        },
        {
          "output_type": "stream",
          "text": [
            "High\n",
            "-5.837464825169616\n"
          ],
          "name": "stdout"
        },
        {
          "output_type": "stream",
          "text": [
            "/usr/local/lib/python3.7/dist-packages/seaborn/distributions.py:2557: FutureWarning: `distplot` is a deprecated function and will be removed in a future version. Please adapt your code to use either `displot` (a figure-level function with similar flexibility) or `histplot` (an axes-level function for histograms).\n",
            "  warnings.warn(msg, FutureWarning)\n"
          ],
          "name": "stderr"
        },
        {
          "output_type": "display_data",
          "data": {
            "image/png": "[encoded data removed]",
            "text/plain": [
              "<Figure size 432x288 with 1 Axes>"
            ]
          },
          "metadata": {
            "tags": [],
            "needs_background": "light"
          }
        },
        {
          "output_type": "stream",
          "text": [
            "Low\n",
            "-5.762213382154099\n"
          ],
          "name": "stdout"
        },
        {
          "output_type": "stream",
          "text": [
            "/usr/local/lib/python3.7/dist-packages/seaborn/distributions.py:2557: FutureWarning: `distplot` is a deprecated function and will be removed in a future version. Please adapt your code to use either `displot` (a figure-level function with similar flexibility) or `histplot` (an axes-level function for histograms).\n",
            "  warnings.warn(msg, FutureWarning)\n"
          ],
          "name": "stderr"
        },
        {
          "output_type": "display_data",
          "data": {
            "image/png": "[encoded data removed]",
            "text/plain": [
              "<Figure size 432x288 with 1 Axes>"
            ]
          },
          "metadata": {
            "tags": [],
            "needs_background": "light"
          }
        },
        {
          "output_type": "stream",
          "text": [
            "Close\n",
            "-5.76023489898148\n"
          ],
          "name": "stdout"
        },
        {
          "output_type": "stream",
          "text": [
            "/usr/local/lib/python3.7/dist-packages/seaborn/distributions.py:2557: FutureWarning: `distplot` is a deprecated function and will be removed in a future version. Please adapt your code to use either `displot` (a figure-level function with similar flexibility) or `histplot` (an axes-level function for histograms).\n",
            "  warnings.warn(msg, FutureWarning)\n"
          ],
          "name": "stderr"
        },
        {
          "output_type": "display_data",
          "data": {
            "image/png": "[encoded data removed]",
            "text/plain": [
              "<Figure size 432x288 with 1 Axes>"
            ]
          },
          "metadata": {
            "tags": [],
            "needs_background": "light"
          }
        },
        {
          "output_type": "stream",
          "text": [
            "Adj Close\n",
            "-7.067579725269822\n"
          ],
          "name": "stdout"
        },
        {
          "output_type": "stream",
          "text": [
            "/usr/local/lib/python3.7/dist-packages/seaborn/distributions.py:2557: FutureWarning: `distplot` is a deprecated function and will be removed in a future version. Please adapt your code to use either `displot` (a figure-level function with similar flexibility) or `histplot` (an axes-level function for histograms).\n",
            "  warnings.warn(msg, FutureWarning)\n"
          ],
          "name": "stderr"
        },
        {
          "output_type": "display_data",
          "data": {
            "image/png": "[encoded data removed]",
            "text/plain": [
              "<Figure size 432x288 with 1 Axes>"
            ]
          },
          "metadata": {
            "tags": [],
            "needs_background": "light"
          }
        },
        {
          "output_type": "stream",
          "text": [
            "Volume\n",
            "2.259805989603436\n"
          ],
          "name": "stdout"
        },
        {
          "output_type": "stream",
          "text": [
            "/usr/local/lib/python3.7/dist-packages/seaborn/distributions.py:2557: FutureWarning: `distplot` is a deprecated function and will be removed in a future version. Please adapt your code to use either `displot` (a figure-level function with similar flexibility) or `histplot` (an axes-level function for histograms).\n",
            "  warnings.warn(msg, FutureWarning)\n"
          ],
          "name": "stderr"
        },
        {
          "output_type": "display_data",
          "data": {
            "image/png": "[encoded data removed]",
            "text/plain": [
              "<Figure size 432x288 with 1 Axes>"
            ]
          },
          "metadata": {
            "tags": [],
            "needs_background": "light"
          }
        }
      ]
    },
    {
      "cell_type": "markdown",
      "metadata": {
        "id": "o--eQuFh3mNG"
      },
      "source": [
        "##OUtlier"
      ]
    },
    {
      "cell_type": "markdown",
      "metadata": {
        "id": "vOXHVQkW3nol"
      },
      "source": [
        "Bagian utama berbentuk Box adalah bidang yang menyajikan inner quartile range **(IQR)**, dimana 50% dari nilai data observasi terletak disana.\n",
        "**Rumus:** \n",
        "      **BOX = IQR = Q3 - Q1**\n",
        "\n",
        "Garis perpanjangan dari Box (sebelah kanan dan kiri) disebut dengan **whiskers**. \n",
        "\n",
        "*   Garis atau batas kotak sebelah kiri atau Lower Quartile (LQ) = Q1 (Kuartil Pertama), dimana 25% data observasi lebih kecil atau sama dengan nilai Q1.\n",
        "\n",
        "*   Garis tengah pada kotak = Q2 (Median), dimana 50% data observasi lebih kecil atau sama dengan nilai ini.\n",
        "\n",
        "*   Garis atau batas kotak sebelah kanan atau Upper Quartile (UQ) = Q3 (Kuartil Ketiga), dimana 75% data observasi pengamatan lebih kecil atau sama dengan nilai Q3\n",
        "\n",
        "Nilai yang berada melewati whiskers dinamakan **nilai outlier** atau **ekstrim**.\n",
        "\n",
        "*   Nilai Outlier adalah nilai data yang letaknya melebihi 1.5x panjang IQR, diukur dari LQ atau UQ. **Rumus:** \n",
        "\n",
        "  1.   **Q3 + (1.5 x IQR) < outlier atas ≤ Q3 + (3 x IQR)**\n",
        "\n",
        "  2.   **Q1 – (1.5 x IQR) > outlier bawah ≥ Q1 – (3 x IQR)**\n",
        "\n",
        "*   Nilai ekstrim adalah nilai-nilai yang letaknya melebihi dari 3x panjang kotak (IQR), diukur dari LQ atau UQ."
      ]
    },
    {
      "cell_type": "code",
      "metadata": {
        "id": "IlbbroM83p9h"
      },
      "source": [
        "# Library Outlier\n",
        "import seaborn as sns"
      ],
      "execution_count": 915,
      "outputs": []
    },
    {
      "cell_type": "code",
      "metadata": {
        "colab": {
          "base_uri": "https://localhost:8080/",
          "height": 0
        },
        "id": "zv9sl4vK4Dsu",
        "outputId": "fbbbe64a-6fa6-4608-b27e-a5d1af618e19"
      },
      "source": [
        "# Outlier Saham Telkomsel\n",
        "data = dataset_telkom.iloc[:,1:].fillna(-9999)\n",
        "for kolom in data:\n",
        "  plt.figure() # Membuat figure baru\n",
        "  sns.boxplot(x=data[kolom])\n",
        "  plt.show()"
      ],
      "execution_count": 916,
      "outputs": [
        {
          "output_type": "display_data",
          "data": {
            "image/png": "[encoded data removed]",
            "text/plain": [
              "<Figure size 432x288 with 1 Axes>"
            ]
          },
          "metadata": {
            "tags": [],
            "needs_background": "light"
          }
        },
        {
          "output_type": "display_data",
          "data": {
            "image/png": "[encoded data removed]",
            "text/plain": [
              "<Figure size 432x288 with 1 Axes>"
            ]
          },
          "metadata": {
            "tags": [],
            "needs_background": "light"
          }
        },
        {
          "output_type": "display_data",
          "data": {
            "image/png": "[encoded data removed]",
            "text/plain": [
              "<Figure size 432x288 with 1 Axes>"
            ]
          },
          "metadata": {
            "tags": [],
            "needs_background": "light"
          }
        },
        {
          "output_type": "display_data",
          "data": {
            "image/png": "[encoded data removed]",
            "text/plain": [
              "<Figure size 432x288 with 1 Axes>"
            ]
          },
          "metadata": {
            "tags": [],
            "needs_background": "light"
          }
        },
        {
          "output_type": "display_data",
          "data": {
            "image/png": "[encoded data removed]",
            "text/plain": [
              "<Figure size 432x288 with 1 Axes>"
            ]
          },
          "metadata": {
            "tags": [],
            "needs_background": "light"
          }
        },
        {
          "output_type": "display_data",
          "data": {
            "image/png": "[encoded data removed]",
            "text/plain": [
              "<Figure size 432x288 with 1 Axes>"
            ]
          },
          "metadata": {
            "tags": [],
            "needs_background": "light"
          }
        }
      ]
    },
    {
      "cell_type": "markdown",
      "metadata": {
        "id": "UqzgR_-J4PnG"
      },
      "source": [
        "###Open"
      ]
    },
    {
      "cell_type": "code",
      "metadata": {
        "id": "1BTY4pFZ4Lx4"
      },
      "source": [
        "# Cara mengecek adanya outlier\n",
        "q1,q3 = np.percentile(data['Open'],[25,75])\n",
        "  \n",
        "iqr = q3-q1\n",
        "batas_min = q1-(1.5*iqr)\n",
        "batas_max = q3+(1.5*iqr)\n",
        "batas_min_ekstrim = q1-(3*iqr)\n",
        "batas_max_ekstrim = q3+(3*iqr)\n",
        "  \n",
        "outlier_bwh = data[(data['Open']>=batas_min_ekstrim) & (data['Open']<batas_min)]\n",
        "outlier_ats = data[(data['Open']>batas_max) & (data['Open']<batas_max_ekstrim)]\n"
      ],
      "execution_count": 917,
      "outputs": []
    },
    {
      "cell_type": "code",
      "metadata": {
        "colab": {
          "base_uri": "https://localhost:8080/",
          "height": 0
        },
        "id": "hmq7pAc94Qxr",
        "outputId": "0871956f-d191-4c99-abde-2ca4f78f4e5d"
      },
      "source": [
        "outlier_bwh"
      ],
      "execution_count": 918,
      "outputs": [
        {
          "output_type": "execute_result",
          "data": {
            "text/html": [
              "<div>\n",
              "<style scoped>\n",
              "    .dataframe tbody tr th:only-of-type {\n",
              "        vertical-align: middle;\n",
              "    }\n",
              "\n",
              "    .dataframe tbody tr th {\n",
              "        vertical-align: top;\n",
              "    }\n",
              "\n",
              "    .dataframe thead th {\n",
              "        text-align: right;\n",
              "    }\n",
              "</style>\n",
              "<table border=\"1\" class=\"dataframe\">\n",
              "  <thead>\n",
              "    <tr style=\"text-align: right;\">\n",
              "      <th></th>\n",
              "      <th>Open</th>\n",
              "      <th>High</th>\n",
              "      <th>Low</th>\n",
              "      <th>Close</th>\n",
              "      <th>Adj Close</th>\n",
              "      <th>Volume</th>\n",
              "    </tr>\n",
              "  </thead>\n",
              "  <tbody>\n",
              "  </tbody>\n",
              "</table>\n",
              "</div>"
            ],
            "text/plain": [
              "Empty DataFrame\n",
              "Columns: [Open, High, Low, Close, Adj Close, Volume]\n",
              "Index: []"
            ]
          },
          "metadata": {
            "tags": []
          },
          "execution_count": 918
        }
      ]
    },
    {
      "cell_type": "code",
      "metadata": {
        "colab": {
          "base_uri": "https://localhost:8080/",
          "height": 0
        },
        "id": "7uXNn9Jp4S7X",
        "outputId": "2180a2d6-d31f-4264-ca09-2c6aaf84104b"
      },
      "source": [
        "outlier_ats"
      ],
      "execution_count": 919,
      "outputs": [
        {
          "output_type": "execute_result",
          "data": {
            "text/html": [
              "<div>\n",
              "<style scoped>\n",
              "    .dataframe tbody tr th:only-of-type {\n",
              "        vertical-align: middle;\n",
              "    }\n",
              "\n",
              "    .dataframe tbody tr th {\n",
              "        vertical-align: top;\n",
              "    }\n",
              "\n",
              "    .dataframe thead th {\n",
              "        text-align: right;\n",
              "    }\n",
              "</style>\n",
              "<table border=\"1\" class=\"dataframe\">\n",
              "  <thead>\n",
              "    <tr style=\"text-align: right;\">\n",
              "      <th></th>\n",
              "      <th>Open</th>\n",
              "      <th>High</th>\n",
              "      <th>Low</th>\n",
              "      <th>Close</th>\n",
              "      <th>Adj Close</th>\n",
              "      <th>Volume</th>\n",
              "    </tr>\n",
              "  </thead>\n",
              "  <tbody>\n",
              "  </tbody>\n",
              "</table>\n",
              "</div>"
            ],
            "text/plain": [
              "Empty DataFrame\n",
              "Columns: [Open, High, Low, Close, Adj Close, Volume]\n",
              "Index: []"
            ]
          },
          "metadata": {
            "tags": []
          },
          "execution_count": 919
        }
      ]
    },
    {
      "cell_type": "markdown",
      "metadata": {
        "id": "0b_Nfshs465p"
      },
      "source": [
        "###High"
      ]
    },
    {
      "cell_type": "code",
      "metadata": {
        "id": "TPNYzJ4M5HOH"
      },
      "source": [
        "# Cara mengecek adanya outlier\n",
        "q1,q3 = np.percentile(data['High'],[25,75])\n",
        "  \n",
        "iqr = q3-q1\n",
        "batas_min = q1-(1.5*iqr)\n",
        "batas_max = q3+(1.5*iqr)\n",
        "batas_min_ekstrim = q1-(3*iqr)\n",
        "batas_max_ekstrim = q3+(3*iqr)\n",
        "  \n",
        "outlier_bwh = data[(data['High']>=batas_min_ekstrim) & (data['High']<batas_min)]\n",
        "outlier_ats = data[(data['High']>batas_max) & (data['High']<batas_max_ekstrim)]\n"
      ],
      "execution_count": 920,
      "outputs": []
    },
    {
      "cell_type": "code",
      "metadata": {
        "colab": {
          "base_uri": "https://localhost:8080/",
          "height": 0
        },
        "id": "7Thm_me75MRJ",
        "outputId": "328a0410-020c-48b3-bb42-a1c4b416b0fa"
      },
      "source": [
        "outlier_ats"
      ],
      "execution_count": 921,
      "outputs": [
        {
          "output_type": "execute_result",
          "data": {
            "text/html": [
              "<div>\n",
              "<style scoped>\n",
              "    .dataframe tbody tr th:only-of-type {\n",
              "        vertical-align: middle;\n",
              "    }\n",
              "\n",
              "    .dataframe tbody tr th {\n",
              "        vertical-align: top;\n",
              "    }\n",
              "\n",
              "    .dataframe thead th {\n",
              "        text-align: right;\n",
              "    }\n",
              "</style>\n",
              "<table border=\"1\" class=\"dataframe\">\n",
              "  <thead>\n",
              "    <tr style=\"text-align: right;\">\n",
              "      <th></th>\n",
              "      <th>Open</th>\n",
              "      <th>High</th>\n",
              "      <th>Low</th>\n",
              "      <th>Close</th>\n",
              "      <th>Adj Close</th>\n",
              "      <th>Volume</th>\n",
              "    </tr>\n",
              "  </thead>\n",
              "  <tbody>\n",
              "  </tbody>\n",
              "</table>\n",
              "</div>"
            ],
            "text/plain": [
              "Empty DataFrame\n",
              "Columns: [Open, High, Low, Close, Adj Close, Volume]\n",
              "Index: []"
            ]
          },
          "metadata": {
            "tags": []
          },
          "execution_count": 921
        }
      ]
    },
    {
      "cell_type": "code",
      "metadata": {
        "colab": {
          "base_uri": "https://localhost:8080/",
          "height": 0
        },
        "id": "CWhfAJYW5Npu",
        "outputId": "b17593e8-b753-4385-9188-eec41116366b"
      },
      "source": [
        "outlier_bwh"
      ],
      "execution_count": 922,
      "outputs": [
        {
          "output_type": "execute_result",
          "data": {
            "text/html": [
              "<div>\n",
              "<style scoped>\n",
              "    .dataframe tbody tr th:only-of-type {\n",
              "        vertical-align: middle;\n",
              "    }\n",
              "\n",
              "    .dataframe tbody tr th {\n",
              "        vertical-align: top;\n",
              "    }\n",
              "\n",
              "    .dataframe thead th {\n",
              "        text-align: right;\n",
              "    }\n",
              "</style>\n",
              "<table border=\"1\" class=\"dataframe\">\n",
              "  <thead>\n",
              "    <tr style=\"text-align: right;\">\n",
              "      <th></th>\n",
              "      <th>Open</th>\n",
              "      <th>High</th>\n",
              "      <th>Low</th>\n",
              "      <th>Close</th>\n",
              "      <th>Adj Close</th>\n",
              "      <th>Volume</th>\n",
              "    </tr>\n",
              "  </thead>\n",
              "  <tbody>\n",
              "  </tbody>\n",
              "</table>\n",
              "</div>"
            ],
            "text/plain": [
              "Empty DataFrame\n",
              "Columns: [Open, High, Low, Close, Adj Close, Volume]\n",
              "Index: []"
            ]
          },
          "metadata": {
            "tags": []
          },
          "execution_count": 922
        }
      ]
    },
    {
      "cell_type": "markdown",
      "metadata": {
        "id": "TY1macpo48Ps"
      },
      "source": [
        "###Low"
      ]
    },
    {
      "cell_type": "code",
      "metadata": {
        "id": "-rYSMs4d49fn"
      },
      "source": [
        "# Cara mengecek adanya outlier\n",
        "q1,q3 = np.percentile(data['Low'],[25,75])\n",
        "  \n",
        "iqr = q3-q1\n",
        "batas_min = q1-(1.5*iqr)\n",
        "batas_max = q3+(1.5*iqr)\n",
        "batas_min_ekstrim = q1-(3*iqr)\n",
        "batas_max_ekstrim = q3+(3*iqr)\n",
        "  \n",
        "outlier_bwh = data[(data['Low']>=batas_min_ekstrim) & (data['Low']<batas_min)]\n",
        "outlier_ats = data[(data['Low']>batas_max) & (data['Low']<batas_max_ekstrim)]\n"
      ],
      "execution_count": 923,
      "outputs": []
    },
    {
      "cell_type": "code",
      "metadata": {
        "colab": {
          "base_uri": "https://localhost:8080/",
          "height": 0
        },
        "id": "7eCQRM5V5DYS",
        "outputId": "dee4ea9e-22e1-4f6d-fb26-d2ba867687d4"
      },
      "source": [
        "outlier_ats"
      ],
      "execution_count": 924,
      "outputs": [
        {
          "output_type": "execute_result",
          "data": {
            "text/html": [
              "<div>\n",
              "<style scoped>\n",
              "    .dataframe tbody tr th:only-of-type {\n",
              "        vertical-align: middle;\n",
              "    }\n",
              "\n",
              "    .dataframe tbody tr th {\n",
              "        vertical-align: top;\n",
              "    }\n",
              "\n",
              "    .dataframe thead th {\n",
              "        text-align: right;\n",
              "    }\n",
              "</style>\n",
              "<table border=\"1\" class=\"dataframe\">\n",
              "  <thead>\n",
              "    <tr style=\"text-align: right;\">\n",
              "      <th></th>\n",
              "      <th>Open</th>\n",
              "      <th>High</th>\n",
              "      <th>Low</th>\n",
              "      <th>Close</th>\n",
              "      <th>Adj Close</th>\n",
              "      <th>Volume</th>\n",
              "    </tr>\n",
              "  </thead>\n",
              "  <tbody>\n",
              "  </tbody>\n",
              "</table>\n",
              "</div>"
            ],
            "text/plain": [
              "Empty DataFrame\n",
              "Columns: [Open, High, Low, Close, Adj Close, Volume]\n",
              "Index: []"
            ]
          },
          "metadata": {
            "tags": []
          },
          "execution_count": 924
        }
      ]
    },
    {
      "cell_type": "code",
      "metadata": {
        "colab": {
          "base_uri": "https://localhost:8080/",
          "height": 0
        },
        "id": "XgPsrHh95E3y",
        "outputId": "4fe777c7-a0c4-45ad-8865-0ef87ef802a1"
      },
      "source": [
        "outlier_bwh"
      ],
      "execution_count": 925,
      "outputs": [
        {
          "output_type": "execute_result",
          "data": {
            "text/html": [
              "<div>\n",
              "<style scoped>\n",
              "    .dataframe tbody tr th:only-of-type {\n",
              "        vertical-align: middle;\n",
              "    }\n",
              "\n",
              "    .dataframe tbody tr th {\n",
              "        vertical-align: top;\n",
              "    }\n",
              "\n",
              "    .dataframe thead th {\n",
              "        text-align: right;\n",
              "    }\n",
              "</style>\n",
              "<table border=\"1\" class=\"dataframe\">\n",
              "  <thead>\n",
              "    <tr style=\"text-align: right;\">\n",
              "      <th></th>\n",
              "      <th>Open</th>\n",
              "      <th>High</th>\n",
              "      <th>Low</th>\n",
              "      <th>Close</th>\n",
              "      <th>Adj Close</th>\n",
              "      <th>Volume</th>\n",
              "    </tr>\n",
              "  </thead>\n",
              "  <tbody>\n",
              "  </tbody>\n",
              "</table>\n",
              "</div>"
            ],
            "text/plain": [
              "Empty DataFrame\n",
              "Columns: [Open, High, Low, Close, Adj Close, Volume]\n",
              "Index: []"
            ]
          },
          "metadata": {
            "tags": []
          },
          "execution_count": 925
        }
      ]
    },
    {
      "cell_type": "markdown",
      "metadata": {
        "id": "tujUiKta4ujQ"
      },
      "source": [
        "###Close"
      ]
    },
    {
      "cell_type": "code",
      "metadata": {
        "id": "srNgL_oq4wnL"
      },
      "source": [
        "# Cara mengecek adanya outlier\n",
        "q1,q3 = np.percentile(data['Close'],[25,75])\n",
        "  \n",
        "iqr = q3-q1\n",
        "batas_min = q1-(1.5*iqr)\n",
        "batas_max = q3+(1.5*iqr)\n",
        "batas_min_ekstrim = q1-(3*iqr)\n",
        "batas_max_ekstrim = q3+(3*iqr)\n",
        "  \n",
        "outlier_bwh = data[(data['Close']>=batas_min_ekstrim) & (data['Close']<batas_min)]\n",
        "outlier_ats = data[(data['Close']>batas_max) & (data['Close']<batas_max_ekstrim)]\n"
      ],
      "execution_count": 926,
      "outputs": []
    },
    {
      "cell_type": "code",
      "metadata": {
        "colab": {
          "base_uri": "https://localhost:8080/",
          "height": 0
        },
        "id": "UG0gwYFD43cT",
        "outputId": "e9752c57-2717-4d32-9836-85ed572c5017"
      },
      "source": [
        "outlier_ats"
      ],
      "execution_count": 927,
      "outputs": [
        {
          "output_type": "execute_result",
          "data": {
            "text/html": [
              "<div>\n",
              "<style scoped>\n",
              "    .dataframe tbody tr th:only-of-type {\n",
              "        vertical-align: middle;\n",
              "    }\n",
              "\n",
              "    .dataframe tbody tr th {\n",
              "        vertical-align: top;\n",
              "    }\n",
              "\n",
              "    .dataframe thead th {\n",
              "        text-align: right;\n",
              "    }\n",
              "</style>\n",
              "<table border=\"1\" class=\"dataframe\">\n",
              "  <thead>\n",
              "    <tr style=\"text-align: right;\">\n",
              "      <th></th>\n",
              "      <th>Open</th>\n",
              "      <th>High</th>\n",
              "      <th>Low</th>\n",
              "      <th>Close</th>\n",
              "      <th>Adj Close</th>\n",
              "      <th>Volume</th>\n",
              "    </tr>\n",
              "  </thead>\n",
              "  <tbody>\n",
              "  </tbody>\n",
              "</table>\n",
              "</div>"
            ],
            "text/plain": [
              "Empty DataFrame\n",
              "Columns: [Open, High, Low, Close, Adj Close, Volume]\n",
              "Index: []"
            ]
          },
          "metadata": {
            "tags": []
          },
          "execution_count": 927
        }
      ]
    },
    {
      "cell_type": "code",
      "metadata": {
        "colab": {
          "base_uri": "https://localhost:8080/",
          "height": 0
        },
        "id": "nEZUyvrv447N",
        "outputId": "76b2f491-02ce-45f3-d195-18a35bc1a92c"
      },
      "source": [
        "outlier_bwh"
      ],
      "execution_count": 928,
      "outputs": [
        {
          "output_type": "execute_result",
          "data": {
            "text/html": [
              "<div>\n",
              "<style scoped>\n",
              "    .dataframe tbody tr th:only-of-type {\n",
              "        vertical-align: middle;\n",
              "    }\n",
              "\n",
              "    .dataframe tbody tr th {\n",
              "        vertical-align: top;\n",
              "    }\n",
              "\n",
              "    .dataframe thead th {\n",
              "        text-align: right;\n",
              "    }\n",
              "</style>\n",
              "<table border=\"1\" class=\"dataframe\">\n",
              "  <thead>\n",
              "    <tr style=\"text-align: right;\">\n",
              "      <th></th>\n",
              "      <th>Open</th>\n",
              "      <th>High</th>\n",
              "      <th>Low</th>\n",
              "      <th>Close</th>\n",
              "      <th>Adj Close</th>\n",
              "      <th>Volume</th>\n",
              "    </tr>\n",
              "  </thead>\n",
              "  <tbody>\n",
              "  </tbody>\n",
              "</table>\n",
              "</div>"
            ],
            "text/plain": [
              "Empty DataFrame\n",
              "Columns: [Open, High, Low, Close, Adj Close, Volume]\n",
              "Index: []"
            ]
          },
          "metadata": {
            "tags": []
          },
          "execution_count": 928
        }
      ]
    },
    {
      "cell_type": "markdown",
      "metadata": {
        "id": "HbYBzfc_5Qqs"
      },
      "source": [
        "###Adj Close"
      ]
    },
    {
      "cell_type": "code",
      "metadata": {
        "id": "7goVGsPr5UeA"
      },
      "source": [
        "# Cara mengecek adanya outlier\n",
        "q1,q3 = np.percentile(data['Adj Close'],[25,75])\n",
        "  \n",
        "iqr = q3-q1\n",
        "batas_min = q1-(1.5*iqr)\n",
        "batas_max = q3+(1.5*iqr)\n",
        "batas_min_ekstrim = q1-(3*iqr)\n",
        "batas_max_ekstrim = q3+(3*iqr)\n",
        "  \n",
        "outlier_bwh = data[(data['Adj Close']>=batas_min_ekstrim) & (data['Adj Close']<batas_min)]\n",
        "outlier_ats = data[(data['Adj Close']>batas_max) & (data['Adj Close']<batas_max_ekstrim)]\n"
      ],
      "execution_count": 929,
      "outputs": []
    },
    {
      "cell_type": "code",
      "metadata": {
        "colab": {
          "base_uri": "https://localhost:8080/",
          "height": 0
        },
        "id": "foE7NVOJ5a0R",
        "outputId": "2a4c33d0-23cf-4509-c73a-189d35ecf6be"
      },
      "source": [
        "outlier_ats"
      ],
      "execution_count": 930,
      "outputs": [
        {
          "output_type": "execute_result",
          "data": {
            "text/html": [
              "<div>\n",
              "<style scoped>\n",
              "    .dataframe tbody tr th:only-of-type {\n",
              "        vertical-align: middle;\n",
              "    }\n",
              "\n",
              "    .dataframe tbody tr th {\n",
              "        vertical-align: top;\n",
              "    }\n",
              "\n",
              "    .dataframe thead th {\n",
              "        text-align: right;\n",
              "    }\n",
              "</style>\n",
              "<table border=\"1\" class=\"dataframe\">\n",
              "  <thead>\n",
              "    <tr style=\"text-align: right;\">\n",
              "      <th></th>\n",
              "      <th>Open</th>\n",
              "      <th>High</th>\n",
              "      <th>Low</th>\n",
              "      <th>Close</th>\n",
              "      <th>Adj Close</th>\n",
              "      <th>Volume</th>\n",
              "    </tr>\n",
              "  </thead>\n",
              "  <tbody>\n",
              "  </tbody>\n",
              "</table>\n",
              "</div>"
            ],
            "text/plain": [
              "Empty DataFrame\n",
              "Columns: [Open, High, Low, Close, Adj Close, Volume]\n",
              "Index: []"
            ]
          },
          "metadata": {
            "tags": []
          },
          "execution_count": 930
        }
      ]
    },
    {
      "cell_type": "code",
      "metadata": {
        "colab": {
          "base_uri": "https://localhost:8080/",
          "height": 0
        },
        "id": "otA-dVpX5cjE",
        "outputId": "7339329e-5d55-4e96-dc40-2ff190937670"
      },
      "source": [
        "outlier_bwh"
      ],
      "execution_count": 931,
      "outputs": [
        {
          "output_type": "execute_result",
          "data": {
            "text/html": [
              "<div>\n",
              "<style scoped>\n",
              "    .dataframe tbody tr th:only-of-type {\n",
              "        vertical-align: middle;\n",
              "    }\n",
              "\n",
              "    .dataframe tbody tr th {\n",
              "        vertical-align: top;\n",
              "    }\n",
              "\n",
              "    .dataframe thead th {\n",
              "        text-align: right;\n",
              "    }\n",
              "</style>\n",
              "<table border=\"1\" class=\"dataframe\">\n",
              "  <thead>\n",
              "    <tr style=\"text-align: right;\">\n",
              "      <th></th>\n",
              "      <th>Open</th>\n",
              "      <th>High</th>\n",
              "      <th>Low</th>\n",
              "      <th>Close</th>\n",
              "      <th>Adj Close</th>\n",
              "      <th>Volume</th>\n",
              "    </tr>\n",
              "  </thead>\n",
              "  <tbody>\n",
              "  </tbody>\n",
              "</table>\n",
              "</div>"
            ],
            "text/plain": [
              "Empty DataFrame\n",
              "Columns: [Open, High, Low, Close, Adj Close, Volume]\n",
              "Index: []"
            ]
          },
          "metadata": {
            "tags": []
          },
          "execution_count": 931
        }
      ]
    },
    {
      "cell_type": "markdown",
      "metadata": {
        "id": "MYToPnUQ5k7O"
      },
      "source": [
        "###Volume"
      ]
    },
    {
      "cell_type": "code",
      "metadata": {
        "id": "qBRlrgnz5mg7"
      },
      "source": [
        "# Cara mengecek adanya outlier\n",
        "q1,q3 = np.percentile(data['Volume'],[25,75])\n",
        "  \n",
        "iqr = q3-q1\n",
        "batas_min = q1-(1.5*iqr)\n",
        "batas_max = q3+(1.5*iqr)\n",
        "batas_min_ekstrim = q1-(3*iqr)\n",
        "batas_max_ekstrim = q3+(3*iqr)\n",
        "  \n",
        "outlier_bwh = data[(data['Volume']>=batas_min_ekstrim) & (data['Volume']<batas_min)]\n",
        "outlier_ats = data[(data['Volume']>batas_max) & (data['Volume']<batas_max_ekstrim)]\n"
      ],
      "execution_count": 932,
      "outputs": []
    },
    {
      "cell_type": "code",
      "metadata": {
        "colab": {
          "base_uri": "https://localhost:8080/",
          "height": 0
        },
        "id": "uMirUIA05sSw",
        "outputId": "c032d377-77ae-457c-808f-13dbc3ed8c35"
      },
      "source": [
        "outlier_ats"
      ],
      "execution_count": 933,
      "outputs": [
        {
          "output_type": "execute_result",
          "data": {
            "text/html": [
              "<div>\n",
              "<style scoped>\n",
              "    .dataframe tbody tr th:only-of-type {\n",
              "        vertical-align: middle;\n",
              "    }\n",
              "\n",
              "    .dataframe tbody tr th {\n",
              "        vertical-align: top;\n",
              "    }\n",
              "\n",
              "    .dataframe thead th {\n",
              "        text-align: right;\n",
              "    }\n",
              "</style>\n",
              "<table border=\"1\" class=\"dataframe\">\n",
              "  <thead>\n",
              "    <tr style=\"text-align: right;\">\n",
              "      <th></th>\n",
              "      <th>Open</th>\n",
              "      <th>High</th>\n",
              "      <th>Low</th>\n",
              "      <th>Close</th>\n",
              "      <th>Adj Close</th>\n",
              "      <th>Volume</th>\n",
              "    </tr>\n",
              "  </thead>\n",
              "  <tbody>\n",
              "    <tr>\n",
              "      <th>82</th>\n",
              "      <td>2715.0</td>\n",
              "      <td>2730.0</td>\n",
              "      <td>2615.0</td>\n",
              "      <td>2615.0</td>\n",
              "      <td>2233.310547</td>\n",
              "      <td>219284700.0</td>\n",
              "    </tr>\n",
              "    <tr>\n",
              "      <th>224</th>\n",
              "      <td>2900.0</td>\n",
              "      <td>2980.0</td>\n",
              "      <td>2900.0</td>\n",
              "      <td>2930.0</td>\n",
              "      <td>2502.332275</td>\n",
              "      <td>248674100.0</td>\n",
              "    </tr>\n",
              "    <tr>\n",
              "      <th>300</th>\n",
              "      <td>3380.0</td>\n",
              "      <td>3380.0</td>\n",
              "      <td>3300.0</td>\n",
              "      <td>3305.0</td>\n",
              "      <td>2822.596680</td>\n",
              "      <td>201671300.0</td>\n",
              "    </tr>\n",
              "    <tr>\n",
              "      <th>326</th>\n",
              "      <td>3585.0</td>\n",
              "      <td>3595.0</td>\n",
              "      <td>3530.0</td>\n",
              "      <td>3550.0</td>\n",
              "      <td>3031.835938</td>\n",
              "      <td>225310200.0</td>\n",
              "    </tr>\n",
              "    <tr>\n",
              "      <th>370</th>\n",
              "      <td>4080.0</td>\n",
              "      <td>4250.0</td>\n",
              "      <td>4030.0</td>\n",
              "      <td>4070.0</td>\n",
              "      <td>3491.448975</td>\n",
              "      <td>270804800.0</td>\n",
              "    </tr>\n",
              "    <tr>\n",
              "      <th>...</th>\n",
              "      <td>...</td>\n",
              "      <td>...</td>\n",
              "      <td>...</td>\n",
              "      <td>...</td>\n",
              "      <td>...</td>\n",
              "      <td>...</td>\n",
              "    </tr>\n",
              "    <tr>\n",
              "      <th>1511</th>\n",
              "      <td>3590.0</td>\n",
              "      <td>3640.0</td>\n",
              "      <td>3570.0</td>\n",
              "      <td>3600.0</td>\n",
              "      <td>3427.189697</td>\n",
              "      <td>271231200.0</td>\n",
              "    </tr>\n",
              "    <tr>\n",
              "      <th>1543</th>\n",
              "      <td>3510.0</td>\n",
              "      <td>3570.0</td>\n",
              "      <td>3450.0</td>\n",
              "      <td>3490.0</td>\n",
              "      <td>3322.469971</td>\n",
              "      <td>226833000.0</td>\n",
              "    </tr>\n",
              "    <tr>\n",
              "      <th>1544</th>\n",
              "      <td>3450.0</td>\n",
              "      <td>3510.0</td>\n",
              "      <td>3410.0</td>\n",
              "      <td>3490.0</td>\n",
              "      <td>3322.469971</td>\n",
              "      <td>230007700.0</td>\n",
              "    </tr>\n",
              "    <tr>\n",
              "      <th>1602</th>\n",
              "      <td>3350.0</td>\n",
              "      <td>3400.0</td>\n",
              "      <td>3330.0</td>\n",
              "      <td>3380.0</td>\n",
              "      <td>3217.750488</td>\n",
              "      <td>233551300.0</td>\n",
              "    </tr>\n",
              "    <tr>\n",
              "      <th>1632</th>\n",
              "      <td>3040.0</td>\n",
              "      <td>3170.0</td>\n",
              "      <td>3030.0</td>\n",
              "      <td>3160.0</td>\n",
              "      <td>3160.000000</td>\n",
              "      <td>222916400.0</td>\n",
              "    </tr>\n",
              "  </tbody>\n",
              "</table>\n",
              "<p>67 rows × 6 columns</p>\n",
              "</div>"
            ],
            "text/plain": [
              "        Open    High     Low   Close    Adj Close       Volume\n",
              "82    2715.0  2730.0  2615.0  2615.0  2233.310547  219284700.0\n",
              "224   2900.0  2980.0  2900.0  2930.0  2502.332275  248674100.0\n",
              "300   3380.0  3380.0  3300.0  3305.0  2822.596680  201671300.0\n",
              "326   3585.0  3595.0  3530.0  3550.0  3031.835938  225310200.0\n",
              "370   4080.0  4250.0  4030.0  4070.0  3491.448975  270804800.0\n",
              "...      ...     ...     ...     ...          ...          ...\n",
              "1511  3590.0  3640.0  3570.0  3600.0  3427.189697  271231200.0\n",
              "1543  3510.0  3570.0  3450.0  3490.0  3322.469971  226833000.0\n",
              "1544  3450.0  3510.0  3410.0  3490.0  3322.469971  230007700.0\n",
              "1602  3350.0  3400.0  3330.0  3380.0  3217.750488  233551300.0\n",
              "1632  3040.0  3170.0  3030.0  3160.0  3160.000000  222916400.0\n",
              "\n",
              "[67 rows x 6 columns]"
            ]
          },
          "metadata": {
            "tags": []
          },
          "execution_count": 933
        }
      ]
    },
    {
      "cell_type": "code",
      "metadata": {
        "colab": {
          "base_uri": "https://localhost:8080/",
          "height": 0
        },
        "id": "xsSdiVrJ5tzR",
        "outputId": "7f521d0a-adc8-47fb-faa6-6bd3be6ec3f3"
      },
      "source": [
        "outlier_bwh"
      ],
      "execution_count": 934,
      "outputs": [
        {
          "output_type": "execute_result",
          "data": {
            "text/html": [
              "<div>\n",
              "<style scoped>\n",
              "    .dataframe tbody tr th:only-of-type {\n",
              "        vertical-align: middle;\n",
              "    }\n",
              "\n",
              "    .dataframe tbody tr th {\n",
              "        vertical-align: top;\n",
              "    }\n",
              "\n",
              "    .dataframe thead th {\n",
              "        text-align: right;\n",
              "    }\n",
              "</style>\n",
              "<table border=\"1\" class=\"dataframe\">\n",
              "  <thead>\n",
              "    <tr style=\"text-align: right;\">\n",
              "      <th></th>\n",
              "      <th>Open</th>\n",
              "      <th>High</th>\n",
              "      <th>Low</th>\n",
              "      <th>Close</th>\n",
              "      <th>Adj Close</th>\n",
              "      <th>Volume</th>\n",
              "    </tr>\n",
              "  </thead>\n",
              "  <tbody>\n",
              "  </tbody>\n",
              "</table>\n",
              "</div>"
            ],
            "text/plain": [
              "Empty DataFrame\n",
              "Columns: [Open, High, Low, Close, Adj Close, Volume]\n",
              "Index: []"
            ]
          },
          "metadata": {
            "tags": []
          },
          "execution_count": 934
        }
      ]
    },
    {
      "cell_type": "markdown",
      "metadata": {
        "id": "Xhs6Smd86JS0"
      },
      "source": [
        "#Preprocessing"
      ]
    },
    {
      "cell_type": "markdown",
      "metadata": {
        "id": "hM6IzFR_6-eg"
      },
      "source": [
        "Pada tahap pembelajaran ini tidak semua data digunakan dalam proses training. Sehingga dilakukan manipulasi data dalam mendapatkan kategori yang baru. \n",
        "\n",
        "Pada jual beli saham, dikenal dengan berapa persen perubahan harga pembukaan hingga harga penutupan pada dari tertentu atau istilah lainnya adalah %change.\n",
        "\n",
        "%change ini memiliki rumus harga penutupan (close) - harga pembukaan (open) dibagi harga pembukaan (open) dikali 100.\n",
        "\n",
        "Kemudian terdapat istilah spread/volatility yaitu jangkauan antara nilai maksimum (High) dan minimum (Low) dibagi harga penutupan (close)\n",
        "\n",
        "referensi: http://melekteknologi.id/tutorial-machine-learning-dengan-python-episode-1-prediksi-harga-saham-dengan-regresi-linier-part-2/"
      ]
    },
    {
      "cell_type": "code",
      "metadata": {
        "colab": {
          "base_uri": "https://localhost:8080/",
          "height": 408
        },
        "id": "1i5TWHQH6LD5",
        "outputId": "0c42d3b9-ae9b-45e6-c4d1-402d479b6ddb"
      },
      "source": [
        "#%Change\n",
        "dataset_telkom['%Change'] = (dataset_telkom['Close'] - dataset_telkom['Open']) / dataset_telkom['Open'] *100.0\n",
        "\n",
        "#Spread\n",
        "dataset_telkom['Spread'] = (dataset_telkom['High'] - dataset_telkom['Low']) / dataset_telkom['Close'] * 100.0\n",
        "\n",
        "#Membuat dataframe baru\n",
        "data_baru = dataset_telkom[['Close', 'Spread', '%Change', 'Volume']]\n",
        "data_baru"
      ],
      "execution_count": 935,
      "outputs": [
        {
          "output_type": "execute_result",
          "data": {
            "text/html": [
              "<div>\n",
              "<style scoped>\n",
              "    .dataframe tbody tr th:only-of-type {\n",
              "        vertical-align: middle;\n",
              "    }\n",
              "\n",
              "    .dataframe tbody tr th {\n",
              "        vertical-align: top;\n",
              "    }\n",
              "\n",
              "    .dataframe thead th {\n",
              "        text-align: right;\n",
              "    }\n",
              "</style>\n",
              "<table border=\"1\" class=\"dataframe\">\n",
              "  <thead>\n",
              "    <tr style=\"text-align: right;\">\n",
              "      <th></th>\n",
              "      <th>Close</th>\n",
              "      <th>Spread</th>\n",
              "      <th>%Change</th>\n",
              "      <th>Volume</th>\n",
              "    </tr>\n",
              "  </thead>\n",
              "  <tbody>\n",
              "    <tr>\n",
              "      <th>0</th>\n",
              "      <td>2860.0</td>\n",
              "      <td>1.223776</td>\n",
              "      <td>-0.866551</td>\n",
              "      <td>18992100.0</td>\n",
              "    </tr>\n",
              "    <tr>\n",
              "      <th>1</th>\n",
              "      <td>2835.0</td>\n",
              "      <td>1.058201</td>\n",
              "      <td>-0.526316</td>\n",
              "      <td>49940700.0</td>\n",
              "    </tr>\n",
              "    <tr>\n",
              "      <th>2</th>\n",
              "      <td>2815.0</td>\n",
              "      <td>1.243339</td>\n",
              "      <td>0.177936</td>\n",
              "      <td>47892100.0</td>\n",
              "    </tr>\n",
              "    <tr>\n",
              "      <th>3</th>\n",
              "      <td>2810.0</td>\n",
              "      <td>2.669039</td>\n",
              "      <td>-1.919721</td>\n",
              "      <td>70076600.0</td>\n",
              "    </tr>\n",
              "    <tr>\n",
              "      <th>4</th>\n",
              "      <td>2835.0</td>\n",
              "      <td>0.705467</td>\n",
              "      <td>-0.176056</td>\n",
              "      <td>56582500.0</td>\n",
              "    </tr>\n",
              "    <tr>\n",
              "      <th>...</th>\n",
              "      <td>...</td>\n",
              "      <td>...</td>\n",
              "      <td>...</td>\n",
              "      <td>...</td>\n",
              "    </tr>\n",
              "    <tr>\n",
              "      <th>1642</th>\n",
              "      <td>3190.0</td>\n",
              "      <td>1.880878</td>\n",
              "      <td>1.592357</td>\n",
              "      <td>55525800.0</td>\n",
              "    </tr>\n",
              "    <tr>\n",
              "      <th>1643</th>\n",
              "      <td>3270.0</td>\n",
              "      <td>3.363914</td>\n",
              "      <td>1.869159</td>\n",
              "      <td>62673400.0</td>\n",
              "    </tr>\n",
              "    <tr>\n",
              "      <th>1644</th>\n",
              "      <td>3190.0</td>\n",
              "      <td>3.134796</td>\n",
              "      <td>-1.846154</td>\n",
              "      <td>103282300.0</td>\n",
              "    </tr>\n",
              "    <tr>\n",
              "      <th>1645</th>\n",
              "      <td>3230.0</td>\n",
              "      <td>2.786378</td>\n",
              "      <td>0.623053</td>\n",
              "      <td>126542400.0</td>\n",
              "    </tr>\n",
              "    <tr>\n",
              "      <th>1646</th>\n",
              "      <td>3240.0</td>\n",
              "      <td>2.777778</td>\n",
              "      <td>1.250000</td>\n",
              "      <td>95143100.0</td>\n",
              "    </tr>\n",
              "  </tbody>\n",
              "</table>\n",
              "<p>1647 rows × 4 columns</p>\n",
              "</div>"
            ],
            "text/plain": [
              "       Close    Spread   %Change       Volume\n",
              "0     2860.0  1.223776 -0.866551   18992100.0\n",
              "1     2835.0  1.058201 -0.526316   49940700.0\n",
              "2     2815.0  1.243339  0.177936   47892100.0\n",
              "3     2810.0  2.669039 -1.919721   70076600.0\n",
              "4     2835.0  0.705467 -0.176056   56582500.0\n",
              "...      ...       ...       ...          ...\n",
              "1642  3190.0  1.880878  1.592357   55525800.0\n",
              "1643  3270.0  3.363914  1.869159   62673400.0\n",
              "1644  3190.0  3.134796 -1.846154  103282300.0\n",
              "1645  3230.0  2.786378  0.623053  126542400.0\n",
              "1646  3240.0  2.777778  1.250000   95143100.0\n",
              "\n",
              "[1647 rows x 4 columns]"
            ]
          },
          "metadata": {
            "tags": []
          },
          "execution_count": 935
        }
      ]
    },
    {
      "cell_type": "markdown",
      "metadata": {
        "id": "I_RFjHGq_Cef"
      },
      "source": [
        "##Data Cleaning"
      ]
    },
    {
      "cell_type": "markdown",
      "metadata": {
        "id": "p_vH7Xq4_Er_"
      },
      "source": [
        "data cleaning bermaksud membersihkan data sederhana. dengan membersihkan data yang kosong atau data yang bukan suatu angka (not a number), maka dilakukan pergantian dengan angka -99999 agar dibaca menjadi nilai ekstrem dan dapat diabaikan."
      ]
    },
    {
      "cell_type": "code",
      "metadata": {
        "colab": {
          "base_uri": "https://localhost:8080/"
        },
        "id": "uYwB2fek_EH7",
        "outputId": "99c6f876-cb84-4c1e-fb8c-af21d5fecb26"
      },
      "source": [
        "# memberikan nilai -99999 untuk data not a number\n",
        "data_baru.fillna(value= -99999, inplace=True) "
      ],
      "execution_count": 936,
      "outputs": [
        {
          "output_type": "stream",
          "text": [
            "/usr/local/lib/python3.7/dist-packages/pandas/core/frame.py:4327: SettingWithCopyWarning: \n",
            "A value is trying to be set on a copy of a slice from a DataFrame\n",
            "\n",
            "See the caveats in the documentation: https://pandas.pydata.org/pandas-docs/stable/user_guide/indexing.html#returning-a-view-versus-a-copy\n",
            "  downcast=downcast,\n"
          ],
          "name": "stderr"
        }
      ]
    },
    {
      "cell_type": "markdown",
      "metadata": {
        "id": "5t1cn23K_qXZ"
      },
      "source": [
        "##Menentukan Jumlah Sampel Prediksi"
      ]
    },
    {
      "cell_type": "markdown",
      "metadata": {
        "id": "hj0Of32HAfk_"
      },
      "source": [
        "Pada percobaan ini saya menggunakan 1% dari data awal menjadi sampel data untuk dilakukan prediksi. dengan menggunakan cara shifting.\n",
        "shifting sendiri adalah cara untuk menggeser atau menghapus 1% data terakhir.\n",
        "Pada kasus ini yang akan dilakukan shifting ada data harga close dan akan dilakukan prediksi harga close nantinya."
      ]
    },
    {
      "cell_type": "code",
      "metadata": {
        "colab": {
          "base_uri": "https://localhost:8080/",
          "height": 506
        },
        "id": "bI5nX4NA_vrg",
        "outputId": "7c2f2953-de70-43b9-9627-6023bb1bd7fb"
      },
      "source": [
        "jml_sampel_prekdiksi = int(math.ceil(0.01*len(data_baru)))\n",
        "\n",
        "# menggeser tabel kolom \"Close\" ke atas sehingga beberapa nilai terakhir menjadi NaN\n",
        "data_baru['Output Prediksi'] = data_baru['Close'].shift(-jml_sampel_prekdiksi)\n",
        "data_baru"
      ],
      "execution_count": 937,
      "outputs": [
        {
          "output_type": "stream",
          "text": [
            "/usr/local/lib/python3.7/dist-packages/ipykernel_launcher.py:4: SettingWithCopyWarning: \n",
            "A value is trying to be set on a copy of a slice from a DataFrame.\n",
            "Try using .loc[row_indexer,col_indexer] = value instead\n",
            "\n",
            "See the caveats in the documentation: https://pandas.pydata.org/pandas-docs/stable/user_guide/indexing.html#returning-a-view-versus-a-copy\n",
            "  after removing the cwd from sys.path.\n"
          ],
          "name": "stderr"
        },
        {
          "output_type": "execute_result",
          "data": {
            "text/html": [
              "<div>\n",
              "<style scoped>\n",
              "    .dataframe tbody tr th:only-of-type {\n",
              "        vertical-align: middle;\n",
              "    }\n",
              "\n",
              "    .dataframe tbody tr th {\n",
              "        vertical-align: top;\n",
              "    }\n",
              "\n",
              "    .dataframe thead th {\n",
              "        text-align: right;\n",
              "    }\n",
              "</style>\n",
              "<table border=\"1\" class=\"dataframe\">\n",
              "  <thead>\n",
              "    <tr style=\"text-align: right;\">\n",
              "      <th></th>\n",
              "      <th>Close</th>\n",
              "      <th>Spread</th>\n",
              "      <th>%Change</th>\n",
              "      <th>Volume</th>\n",
              "      <th>Output Prediksi</th>\n",
              "    </tr>\n",
              "  </thead>\n",
              "  <tbody>\n",
              "    <tr>\n",
              "      <th>0</th>\n",
              "      <td>2860.0</td>\n",
              "      <td>1.223776</td>\n",
              "      <td>-0.866551</td>\n",
              "      <td>18992100.0</td>\n",
              "      <td>2830.0</td>\n",
              "    </tr>\n",
              "    <tr>\n",
              "      <th>1</th>\n",
              "      <td>2835.0</td>\n",
              "      <td>1.058201</td>\n",
              "      <td>-0.526316</td>\n",
              "      <td>49940700.0</td>\n",
              "      <td>2845.0</td>\n",
              "    </tr>\n",
              "    <tr>\n",
              "      <th>2</th>\n",
              "      <td>2815.0</td>\n",
              "      <td>1.243339</td>\n",
              "      <td>0.177936</td>\n",
              "      <td>47892100.0</td>\n",
              "      <td>2860.0</td>\n",
              "    </tr>\n",
              "    <tr>\n",
              "      <th>3</th>\n",
              "      <td>2810.0</td>\n",
              "      <td>2.669039</td>\n",
              "      <td>-1.919721</td>\n",
              "      <td>70076600.0</td>\n",
              "      <td>2830.0</td>\n",
              "    </tr>\n",
              "    <tr>\n",
              "      <th>4</th>\n",
              "      <td>2835.0</td>\n",
              "      <td>0.705467</td>\n",
              "      <td>-0.176056</td>\n",
              "      <td>56582500.0</td>\n",
              "      <td>2805.0</td>\n",
              "    </tr>\n",
              "    <tr>\n",
              "      <th>...</th>\n",
              "      <td>...</td>\n",
              "      <td>...</td>\n",
              "      <td>...</td>\n",
              "      <td>...</td>\n",
              "      <td>...</td>\n",
              "    </tr>\n",
              "    <tr>\n",
              "      <th>1642</th>\n",
              "      <td>3190.0</td>\n",
              "      <td>1.880878</td>\n",
              "      <td>1.592357</td>\n",
              "      <td>55525800.0</td>\n",
              "      <td>NaN</td>\n",
              "    </tr>\n",
              "    <tr>\n",
              "      <th>1643</th>\n",
              "      <td>3270.0</td>\n",
              "      <td>3.363914</td>\n",
              "      <td>1.869159</td>\n",
              "      <td>62673400.0</td>\n",
              "      <td>NaN</td>\n",
              "    </tr>\n",
              "    <tr>\n",
              "      <th>1644</th>\n",
              "      <td>3190.0</td>\n",
              "      <td>3.134796</td>\n",
              "      <td>-1.846154</td>\n",
              "      <td>103282300.0</td>\n",
              "      <td>NaN</td>\n",
              "    </tr>\n",
              "    <tr>\n",
              "      <th>1645</th>\n",
              "      <td>3230.0</td>\n",
              "      <td>2.786378</td>\n",
              "      <td>0.623053</td>\n",
              "      <td>126542400.0</td>\n",
              "      <td>NaN</td>\n",
              "    </tr>\n",
              "    <tr>\n",
              "      <th>1646</th>\n",
              "      <td>3240.0</td>\n",
              "      <td>2.777778</td>\n",
              "      <td>1.250000</td>\n",
              "      <td>95143100.0</td>\n",
              "      <td>NaN</td>\n",
              "    </tr>\n",
              "  </tbody>\n",
              "</table>\n",
              "<p>1647 rows × 5 columns</p>\n",
              "</div>"
            ],
            "text/plain": [
              "       Close    Spread   %Change       Volume  Output Prediksi\n",
              "0     2860.0  1.223776 -0.866551   18992100.0           2830.0\n",
              "1     2835.0  1.058201 -0.526316   49940700.0           2845.0\n",
              "2     2815.0  1.243339  0.177936   47892100.0           2860.0\n",
              "3     2810.0  2.669039 -1.919721   70076600.0           2830.0\n",
              "4     2835.0  0.705467 -0.176056   56582500.0           2805.0\n",
              "...      ...       ...       ...          ...              ...\n",
              "1642  3190.0  1.880878  1.592357   55525800.0              NaN\n",
              "1643  3270.0  3.363914  1.869159   62673400.0              NaN\n",
              "1644  3190.0  3.134796 -1.846154  103282300.0              NaN\n",
              "1645  3230.0  2.786378  0.623053  126542400.0              NaN\n",
              "1646  3240.0  2.777778  1.250000   95143100.0              NaN\n",
              "\n",
              "[1647 rows x 5 columns]"
            ]
          },
          "metadata": {
            "tags": []
          },
          "execution_count": 937
        }
      ]
    },
    {
      "cell_type": "markdown",
      "metadata": {
        "id": "995CDbq3CY_E"
      },
      "source": [
        "##Membuat Dataframe baru"
      ]
    },
    {
      "cell_type": "code",
      "metadata": {
        "colab": {
          "base_uri": "https://localhost:8080/"
        },
        "id": "FXjETHOuCWL2",
        "outputId": "7a0fd5eb-9da6-4db8-9395-e70daaf63c47"
      },
      "source": [
        "data_telkom_X = np.array(data_baru[['Close', 'Volume', '%Change', 'Spread']])\n",
        "data_telkom_X"
      ],
      "execution_count": 942,
      "outputs": [
        {
          "output_type": "execute_result",
          "data": {
            "text/plain": [
              "array([[ 2.86000000e+03,  1.89921000e+07, -8.66551127e-01,\n",
              "         1.22377622e+00],\n",
              "       [ 2.83500000e+03,  4.99407000e+07, -5.26315789e-01,\n",
              "         1.05820106e+00],\n",
              "       [ 2.81500000e+03,  4.78921000e+07,  1.77935943e-01,\n",
              "         1.24333925e+00],\n",
              "       ...,\n",
              "       [ 3.19000000e+03,  1.03282300e+08, -1.84615385e+00,\n",
              "         3.13479624e+00],\n",
              "       [ 3.23000000e+03,  1.26542400e+08,  6.23052960e-01,\n",
              "         2.78637771e+00],\n",
              "       [ 3.24000000e+03,  9.51431000e+07,  1.25000000e+00,\n",
              "         2.77777778e+00]])"
            ]
          },
          "metadata": {
            "tags": []
          },
          "execution_count": 942
        }
      ]
    },
    {
      "cell_type": "markdown",
      "metadata": {
        "id": "7-xLj54QDIXN"
      },
      "source": [
        "##Normalisasi"
      ]
    },
    {
      "cell_type": "markdown",
      "metadata": {
        "id": "yoobQLRJ_I9S"
      },
      "source": [
        "Normalisasi data digunakan untuk mempercepat dan mempermudah perhitungan pada machine learning"
      ]
    },
    {
      "cell_type": "code",
      "metadata": {
        "id": "gtI4erMU_XzG"
      },
      "source": [
        "from sklearn import preprocessing"
      ],
      "execution_count": 943,
      "outputs": []
    },
    {
      "cell_type": "code",
      "metadata": {
        "id": "PPNlGvGJDKFs"
      },
      "source": [
        "#Normalisasi dengan mengubah nilai menjadi rentan -1 hingga 1\n",
        "data_telkom_X = preprocessing.scale(data_telkom_X)"
      ],
      "execution_count": 944,
      "outputs": []
    },
    {
      "cell_type": "markdown",
      "metadata": {
        "id": "k6bstEWl_skN"
      },
      "source": [
        "Kemudian dibuat dataframe baru dengan nama data_telkom_X_prediksi yang memiliki elemen 13 data (1%) sedangkan pada data_telkom_X adalah seluruh data kecuali 1% data terakhir(99%)."
      ]
    },
    {
      "cell_type": "code",
      "metadata": {
        "colab": {
          "base_uri": "https://localhost:8080/"
        },
        "id": "N3JV_x1CEQOC",
        "outputId": "312015c4-5073-4885-ff53-98526a537afe"
      },
      "source": [
        "data_telkom_X_prediksi = data_telkom_X[-jml_sampel_prekdiksi:]\n",
        "data_telkom_X = data_telkom_X[:-jml_sampel_prekdiksi] #data 99% elemen\n",
        "data_telkom_X"
      ],
      "execution_count": 945,
      "outputs": [
        {
          "output_type": "execute_result",
          "data": {
            "text/plain": [
              "array([[-0.27247211, -1.24953067,  0.02430062,  0.02426634],\n",
              "       [-0.28204588, -0.74022884,  0.02443874,  0.02419913],\n",
              "       [-0.28970491, -0.77394138,  0.02472464,  0.02427428],\n",
              "       ...,\n",
              "       [-0.19205239,  1.10148658,  0.02413027,  0.02469517],\n",
              "       [-0.20354092,  0.64003825,  0.0242557 ,  0.02483784],\n",
              "       [-0.21502945,  0.93227882,  0.02412   ,  0.02471362]])"
            ]
          },
          "metadata": {
            "tags": []
          },
          "execution_count": 945
        }
      ]
    },
    {
      "cell_type": "markdown",
      "metadata": {
        "id": "l3xwsVfeAC9A"
      },
      "source": [
        "Untuk nilai y digunakan dataframe bernama data_telkom_Y. dataframe ini adalah nilai dari dataframe Output Prediksi yang tidak termasuk nilai yang 'not a number' sehingga nilai yang 'not a number' dilakukan drop terlebih dahulu"
      ]
    },
    {
      "cell_type": "code",
      "metadata": {
        "colab": {
          "base_uri": "https://localhost:8080/"
        },
        "id": "oRophXsVEt7R",
        "outputId": "539b26f9-c219-4d0e-fad7-d0484f588cc0"
      },
      "source": [
        "data_baru.dropna(inplace=True) #menghapus nilai yang 'not a number'/NaN\n",
        "data_telkom_Y = np.array(data_baru['Output Prediksi']) # varibel ini berisi nilai Output Prediksi\n",
        "data_telkom_Y"
      ],
      "execution_count": 946,
      "outputs": [
        {
          "output_type": "stream",
          "text": [
            "/usr/local/lib/python3.7/dist-packages/ipykernel_launcher.py:1: SettingWithCopyWarning: \n",
            "A value is trying to be set on a copy of a slice from a DataFrame\n",
            "\n",
            "See the caveats in the documentation: https://pandas.pydata.org/pandas-docs/stable/user_guide/indexing.html#returning-a-view-versus-a-copy\n",
            "  \"\"\"Entry point for launching an IPython kernel.\n"
          ],
          "name": "stderr"
        },
        {
          "output_type": "execute_result",
          "data": {
            "text/plain": [
              "array([2830., 2845., 2860., ..., 3190., 3230., 3240.])"
            ]
          },
          "metadata": {
            "tags": []
          },
          "execution_count": 946
        }
      ]
    },
    {
      "cell_type": "markdown",
      "metadata": {
        "id": "LXCoowloFzpD"
      },
      "source": [
        "##Menentukan Data Training dan Testing"
      ]
    },
    {
      "cell_type": "code",
      "metadata": {
        "colab": {
          "base_uri": "https://localhost:8080/"
        },
        "id": "ftxjB6ZBHp9F",
        "outputId": "ce400a09-809b-4e79-ef59-7143d331fed0"
      },
      "source": [
        "pip install scikit-learn"
      ],
      "execution_count": 947,
      "outputs": [
        {
          "output_type": "stream",
          "text": [
            "Requirement already satisfied: scikit-learn in /usr/local/lib/python3.7/dist-packages (0.22.2.post1)\n",
            "Requirement already satisfied: joblib>=0.11 in /usr/local/lib/python3.7/dist-packages (from scikit-learn) (1.0.1)\n",
            "Requirement already satisfied: scipy>=0.17.0 in /usr/local/lib/python3.7/dist-packages (from scikit-learn) (1.4.1)\n",
            "Requirement already satisfied: numpy>=1.11.0 in /usr/local/lib/python3.7/dist-packages (from scikit-learn) (1.19.5)\n"
          ],
          "name": "stdout"
        }
      ]
    },
    {
      "cell_type": "markdown",
      "metadata": {
        "id": "5s-1mjybAkLF"
      },
      "source": [
        "Sebelum dilakukan proses pembagian data training dan testing, pastikan ukuran pada setiap dataframe sudah sama."
      ]
    },
    {
      "cell_type": "code",
      "metadata": {
        "colab": {
          "base_uri": "https://localhost:8080/"
        },
        "id": "WzPdRI8ALtLn",
        "outputId": "2935c783-651f-4e21-bd38-7c08eaf4ca9a"
      },
      "source": [
        "#Mencari ukuran data_telkom_X\n",
        "data_telkom_X.shape[0]"
      ],
      "execution_count": 948,
      "outputs": [
        {
          "output_type": "execute_result",
          "data": {
            "text/plain": [
              "1630"
            ]
          },
          "metadata": {
            "tags": []
          },
          "execution_count": 948
        }
      ]
    },
    {
      "cell_type": "code",
      "metadata": {
        "colab": {
          "base_uri": "https://localhost:8080/"
        },
        "id": "_ons4f46Lvut",
        "outputId": "2b7d637b-8545-4050-bddc-be58d6bd40c6"
      },
      "source": [
        "#Mencari ukuran data_telkom_Y\n",
        "data_telkom_Y.shape[0]"
      ],
      "execution_count": 949,
      "outputs": [
        {
          "output_type": "execute_result",
          "data": {
            "text/plain": [
              "1630"
            ]
          },
          "metadata": {
            "tags": []
          },
          "execution_count": 949
        }
      ]
    },
    {
      "cell_type": "code",
      "metadata": {
        "id": "KVoZTtyGF2Zk"
      },
      "source": [
        "from sklearn.model_selection import train_test_split\n",
        "\n",
        "# Membagi data training 80% dan data testing 20%\n",
        "X_train, X_test, y_train, y_test = train_test_split(data_telkom_X, data_telkom_Y, random_state = 100, test_size=0.2) \n"
      ],
      "execution_count": 950,
      "outputs": []
    },
    {
      "cell_type": "markdown",
      "metadata": {
        "id": "dUxeTXRsLDZw"
      },
      "source": [
        "##Training Data"
      ]
    },
    {
      "cell_type": "code",
      "metadata": {
        "colab": {
          "base_uri": "https://localhost:8080/"
        },
        "id": "IbLrX_j8LHsn",
        "outputId": "4c32f255-b3ab-487a-dcfb-e13e800a71f7"
      },
      "source": [
        "from sklearn.linear_model import LinearRegression\n",
        "\n",
        "# regresi linier sebagai classifier dengan proses training\n",
        "linreg = LinearRegression(n_jobs=-1) \n",
        "linreg.fit(X_train, y_train) # lakukan training"
      ],
      "execution_count": 951,
      "outputs": [
        {
          "output_type": "execute_result",
          "data": {
            "text/plain": [
              "LinearRegression(copy_X=True, fit_intercept=True, n_jobs=-1, normalize=False)"
            ]
          },
          "metadata": {
            "tags": []
          },
          "execution_count": 951
        }
      ]
    },
    {
      "cell_type": "markdown",
      "metadata": {
        "id": "EphR8HvHRE3S"
      },
      "source": [
        "#Melakukan Prediksi"
      ]
    },
    {
      "cell_type": "code",
      "metadata": {
        "colab": {
          "base_uri": "https://localhost:8080/"
        },
        "id": "IKTRzJhRRIkp",
        "outputId": "879a1ae3-363a-4ac3-9bbc-1971f1b8f4f7"
      },
      "source": [
        "set_prediksi = linreg.predict(data_telkom_X_prediksi) # prediksi nilai y (output)\n",
        "set_prediksi"
      ],
      "execution_count": 952,
      "outputs": [
        {
          "output_type": "execute_result",
          "data": {
            "text/plain": [
              "array([2998.12132431, 3043.21921378, 3013.78561056, 3199.66403666,\n",
              "       3230.66205003, 3004.65569667, 3065.04969009, 3094.4151695 ,\n",
              "       3107.41846675, 3127.29176882, 3139.46477511, 3291.30305596,\n",
              "       3087.3463654 , 3207.0669848 , 3270.95800731, 3180.05753605,\n",
              "       3171.84892409])"
            ]
          },
          "metadata": {
            "tags": []
          },
          "execution_count": 952
        }
      ]
    },
    {
      "cell_type": "markdown",
      "metadata": {
        "id": "9lhCDXaHBWFF"
      },
      "source": [
        "#Mencari Nilai Confident (Akurasi)"
      ]
    },
    {
      "cell_type": "code",
      "metadata": {
        "colab": {
          "base_uri": "https://localhost:8080/"
        },
        "id": "F7nt9wMKBZNk",
        "outputId": "f1843327-8c85-48ef-e163-62ffc0b8517b"
      },
      "source": [
        "confidence = linreg.score(X_test, y_test) # hitung score\n",
        "print(confidence) # Nilai akurasi model"
      ],
      "execution_count": 953,
      "outputs": [
        {
          "output_type": "stream",
          "text": [
            "0.8331479979359973\n"
          ],
          "name": "stdout"
        }
      ]
    },
    {
      "cell_type": "markdown",
      "metadata": {
        "id": "xlZ6wqISRXE5"
      },
      "source": [
        "#Plot Grafik"
      ]
    },
    {
      "cell_type": "code",
      "metadata": {
        "colab": {
          "base_uri": "https://localhost:8080/",
          "height": 408
        },
        "id": "ckOca3hKzyaX",
        "outputId": "ed693219-3ba3-4018-82f2-cbb7386d28cc"
      },
      "source": [
        "dataset_telkom"
      ],
      "execution_count": 954,
      "outputs": [
        {
          "output_type": "execute_result",
          "data": {
            "text/html": [
              "<div>\n",
              "<style scoped>\n",
              "    .dataframe tbody tr th:only-of-type {\n",
              "        vertical-align: middle;\n",
              "    }\n",
              "\n",
              "    .dataframe tbody tr th {\n",
              "        vertical-align: top;\n",
              "    }\n",
              "\n",
              "    .dataframe thead th {\n",
              "        text-align: right;\n",
              "    }\n",
              "</style>\n",
              "<table border=\"1\" class=\"dataframe\">\n",
              "  <thead>\n",
              "    <tr style=\"text-align: right;\">\n",
              "      <th></th>\n",
              "      <th>Date</th>\n",
              "      <th>Open</th>\n",
              "      <th>High</th>\n",
              "      <th>Low</th>\n",
              "      <th>Close</th>\n",
              "      <th>Adj Close</th>\n",
              "      <th>Volume</th>\n",
              "      <th>%Change</th>\n",
              "      <th>Spread</th>\n",
              "    </tr>\n",
              "  </thead>\n",
              "  <tbody>\n",
              "    <tr>\n",
              "      <th>0</th>\n",
              "      <td>2015-01-02</td>\n",
              "      <td>2885.0</td>\n",
              "      <td>2885.0</td>\n",
              "      <td>2850.0</td>\n",
              "      <td>2860.0</td>\n",
              "      <td>2430.012939</td>\n",
              "      <td>18992100.0</td>\n",
              "      <td>-0.866551</td>\n",
              "      <td>1.223776</td>\n",
              "    </tr>\n",
              "    <tr>\n",
              "      <th>1</th>\n",
              "      <td>2015-01-05</td>\n",
              "      <td>2850.0</td>\n",
              "      <td>2850.0</td>\n",
              "      <td>2820.0</td>\n",
              "      <td>2835.0</td>\n",
              "      <td>2408.771484</td>\n",
              "      <td>49940700.0</td>\n",
              "      <td>-0.526316</td>\n",
              "      <td>1.058201</td>\n",
              "    </tr>\n",
              "    <tr>\n",
              "      <th>2</th>\n",
              "      <td>2015-01-06</td>\n",
              "      <td>2810.0</td>\n",
              "      <td>2835.0</td>\n",
              "      <td>2800.0</td>\n",
              "      <td>2815.0</td>\n",
              "      <td>2391.778809</td>\n",
              "      <td>47892100.0</td>\n",
              "      <td>0.177936</td>\n",
              "      <td>1.243339</td>\n",
              "    </tr>\n",
              "    <tr>\n",
              "      <th>3</th>\n",
              "      <td>2015-01-07</td>\n",
              "      <td>2865.0</td>\n",
              "      <td>2870.0</td>\n",
              "      <td>2795.0</td>\n",
              "      <td>2810.0</td>\n",
              "      <td>2387.530518</td>\n",
              "      <td>70076600.0</td>\n",
              "      <td>-1.919721</td>\n",
              "      <td>2.669039</td>\n",
              "    </tr>\n",
              "    <tr>\n",
              "      <th>4</th>\n",
              "      <td>2015-01-08</td>\n",
              "      <td>2840.0</td>\n",
              "      <td>2845.0</td>\n",
              "      <td>2825.0</td>\n",
              "      <td>2835.0</td>\n",
              "      <td>2408.771484</td>\n",
              "      <td>56582500.0</td>\n",
              "      <td>-0.176056</td>\n",
              "      <td>0.705467</td>\n",
              "    </tr>\n",
              "    <tr>\n",
              "      <th>...</th>\n",
              "      <td>...</td>\n",
              "      <td>...</td>\n",
              "      <td>...</td>\n",
              "      <td>...</td>\n",
              "      <td>...</td>\n",
              "      <td>...</td>\n",
              "      <td>...</td>\n",
              "      <td>...</td>\n",
              "      <td>...</td>\n",
              "    </tr>\n",
              "    <tr>\n",
              "      <th>1642</th>\n",
              "      <td>2021-07-26</td>\n",
              "      <td>3140.0</td>\n",
              "      <td>3200.0</td>\n",
              "      <td>3140.0</td>\n",
              "      <td>3190.0</td>\n",
              "      <td>3190.000000</td>\n",
              "      <td>55525800.0</td>\n",
              "      <td>1.592357</td>\n",
              "      <td>1.880878</td>\n",
              "    </tr>\n",
              "    <tr>\n",
              "      <th>1643</th>\n",
              "      <td>2021-07-27</td>\n",
              "      <td>3210.0</td>\n",
              "      <td>3270.0</td>\n",
              "      <td>3160.0</td>\n",
              "      <td>3270.0</td>\n",
              "      <td>3270.000000</td>\n",
              "      <td>62673400.0</td>\n",
              "      <td>1.869159</td>\n",
              "      <td>3.363914</td>\n",
              "    </tr>\n",
              "    <tr>\n",
              "      <th>1644</th>\n",
              "      <td>2021-07-28</td>\n",
              "      <td>3250.0</td>\n",
              "      <td>3250.0</td>\n",
              "      <td>3150.0</td>\n",
              "      <td>3190.0</td>\n",
              "      <td>3190.000000</td>\n",
              "      <td>103282300.0</td>\n",
              "      <td>-1.846154</td>\n",
              "      <td>3.134796</td>\n",
              "    </tr>\n",
              "    <tr>\n",
              "      <th>1645</th>\n",
              "      <td>2021-07-29</td>\n",
              "      <td>3210.0</td>\n",
              "      <td>3290.0</td>\n",
              "      <td>3200.0</td>\n",
              "      <td>3230.0</td>\n",
              "      <td>3230.000000</td>\n",
              "      <td>126542400.0</td>\n",
              "      <td>0.623053</td>\n",
              "      <td>2.786378</td>\n",
              "    </tr>\n",
              "    <tr>\n",
              "      <th>1646</th>\n",
              "      <td>2021-07-30</td>\n",
              "      <td>3200.0</td>\n",
              "      <td>3290.0</td>\n",
              "      <td>3200.0</td>\n",
              "      <td>3240.0</td>\n",
              "      <td>3240.000000</td>\n",
              "      <td>95143100.0</td>\n",
              "      <td>1.250000</td>\n",
              "      <td>2.777778</td>\n",
              "    </tr>\n",
              "  </tbody>\n",
              "</table>\n",
              "<p>1647 rows × 9 columns</p>\n",
              "</div>"
            ],
            "text/plain": [
              "            Date    Open    High  ...       Volume   %Change    Spread\n",
              "0     2015-01-02  2885.0  2885.0  ...   18992100.0 -0.866551  1.223776\n",
              "1     2015-01-05  2850.0  2850.0  ...   49940700.0 -0.526316  1.058201\n",
              "2     2015-01-06  2810.0  2835.0  ...   47892100.0  0.177936  1.243339\n",
              "3     2015-01-07  2865.0  2870.0  ...   70076600.0 -1.919721  2.669039\n",
              "4     2015-01-08  2840.0  2845.0  ...   56582500.0 -0.176056  0.705467\n",
              "...          ...     ...     ...  ...          ...       ...       ...\n",
              "1642  2021-07-26  3140.0  3200.0  ...   55525800.0  1.592357  1.880878\n",
              "1643  2021-07-27  3210.0  3270.0  ...   62673400.0  1.869159  3.363914\n",
              "1644  2021-07-28  3250.0  3250.0  ...  103282300.0 -1.846154  3.134796\n",
              "1645  2021-07-29  3210.0  3290.0  ...  126542400.0  0.623053  2.786378\n",
              "1646  2021-07-30  3200.0  3290.0  ...   95143100.0  1.250000  2.777778\n",
              "\n",
              "[1647 rows x 9 columns]"
            ]
          },
          "metadata": {
            "tags": []
          },
          "execution_count": 954
        }
      ]
    },
    {
      "cell_type": "code",
      "metadata": {
        "id": "_2n99FcURbxq",
        "colab": {
          "base_uri": "https://localhost:8080/",
          "height": 526
        },
        "outputId": "6f01b02d-a821-4110-bd80-4f3f11143b18"
      },
      "source": [
        "# Membuat dataframe baru yang berisi nilai prediksi harga saham\n",
        "data_baru = dataset_telkom[['Date', 'Close', 'Spread', '%Change', 'Volume']]\n",
        "data_baru['Prediksi'] = np.nan\n",
        "data_baru"
      ],
      "execution_count": 955,
      "outputs": [
        {
          "output_type": "stream",
          "text": [
            "/usr/local/lib/python3.7/dist-packages/ipykernel_launcher.py:3: SettingWithCopyWarning: \n",
            "A value is trying to be set on a copy of a slice from a DataFrame.\n",
            "Try using .loc[row_indexer,col_indexer] = value instead\n",
            "\n",
            "See the caveats in the documentation: https://pandas.pydata.org/pandas-docs/stable/user_guide/indexing.html#returning-a-view-versus-a-copy\n",
            "  This is separate from the ipykernel package so we can avoid doing imports until\n"
          ],
          "name": "stderr"
        },
        {
          "output_type": "execute_result",
          "data": {
            "text/html": [
              "<div>\n",
              "<style scoped>\n",
              "    .dataframe tbody tr th:only-of-type {\n",
              "        vertical-align: middle;\n",
              "    }\n",
              "\n",
              "    .dataframe tbody tr th {\n",
              "        vertical-align: top;\n",
              "    }\n",
              "\n",
              "    .dataframe thead th {\n",
              "        text-align: right;\n",
              "    }\n",
              "</style>\n",
              "<table border=\"1\" class=\"dataframe\">\n",
              "  <thead>\n",
              "    <tr style=\"text-align: right;\">\n",
              "      <th></th>\n",
              "      <th>Date</th>\n",
              "      <th>Close</th>\n",
              "      <th>Spread</th>\n",
              "      <th>%Change</th>\n",
              "      <th>Volume</th>\n",
              "      <th>Prediksi</th>\n",
              "    </tr>\n",
              "  </thead>\n",
              "  <tbody>\n",
              "    <tr>\n",
              "      <th>0</th>\n",
              "      <td>2015-01-02</td>\n",
              "      <td>2860.0</td>\n",
              "      <td>1.223776</td>\n",
              "      <td>-0.866551</td>\n",
              "      <td>18992100.0</td>\n",
              "      <td>NaN</td>\n",
              "    </tr>\n",
              "    <tr>\n",
              "      <th>1</th>\n",
              "      <td>2015-01-05</td>\n",
              "      <td>2835.0</td>\n",
              "      <td>1.058201</td>\n",
              "      <td>-0.526316</td>\n",
              "      <td>49940700.0</td>\n",
              "      <td>NaN</td>\n",
              "    </tr>\n",
              "    <tr>\n",
              "      <th>2</th>\n",
              "      <td>2015-01-06</td>\n",
              "      <td>2815.0</td>\n",
              "      <td>1.243339</td>\n",
              "      <td>0.177936</td>\n",
              "      <td>47892100.0</td>\n",
              "      <td>NaN</td>\n",
              "    </tr>\n",
              "    <tr>\n",
              "      <th>3</th>\n",
              "      <td>2015-01-07</td>\n",
              "      <td>2810.0</td>\n",
              "      <td>2.669039</td>\n",
              "      <td>-1.919721</td>\n",
              "      <td>70076600.0</td>\n",
              "      <td>NaN</td>\n",
              "    </tr>\n",
              "    <tr>\n",
              "      <th>4</th>\n",
              "      <td>2015-01-08</td>\n",
              "      <td>2835.0</td>\n",
              "      <td>0.705467</td>\n",
              "      <td>-0.176056</td>\n",
              "      <td>56582500.0</td>\n",
              "      <td>NaN</td>\n",
              "    </tr>\n",
              "    <tr>\n",
              "      <th>...</th>\n",
              "      <td>...</td>\n",
              "      <td>...</td>\n",
              "      <td>...</td>\n",
              "      <td>...</td>\n",
              "      <td>...</td>\n",
              "      <td>...</td>\n",
              "    </tr>\n",
              "    <tr>\n",
              "      <th>1642</th>\n",
              "      <td>2021-07-26</td>\n",
              "      <td>3190.0</td>\n",
              "      <td>1.880878</td>\n",
              "      <td>1.592357</td>\n",
              "      <td>55525800.0</td>\n",
              "      <td>NaN</td>\n",
              "    </tr>\n",
              "    <tr>\n",
              "      <th>1643</th>\n",
              "      <td>2021-07-27</td>\n",
              "      <td>3270.0</td>\n",
              "      <td>3.363914</td>\n",
              "      <td>1.869159</td>\n",
              "      <td>62673400.0</td>\n",
              "      <td>NaN</td>\n",
              "    </tr>\n",
              "    <tr>\n",
              "      <th>1644</th>\n",
              "      <td>2021-07-28</td>\n",
              "      <td>3190.0</td>\n",
              "      <td>3.134796</td>\n",
              "      <td>-1.846154</td>\n",
              "      <td>103282300.0</td>\n",
              "      <td>NaN</td>\n",
              "    </tr>\n",
              "    <tr>\n",
              "      <th>1645</th>\n",
              "      <td>2021-07-29</td>\n",
              "      <td>3230.0</td>\n",
              "      <td>2.786378</td>\n",
              "      <td>0.623053</td>\n",
              "      <td>126542400.0</td>\n",
              "      <td>NaN</td>\n",
              "    </tr>\n",
              "    <tr>\n",
              "      <th>1646</th>\n",
              "      <td>2021-07-30</td>\n",
              "      <td>3240.0</td>\n",
              "      <td>2.777778</td>\n",
              "      <td>1.250000</td>\n",
              "      <td>95143100.0</td>\n",
              "      <td>NaN</td>\n",
              "    </tr>\n",
              "  </tbody>\n",
              "</table>\n",
              "<p>1647 rows × 6 columns</p>\n",
              "</div>"
            ],
            "text/plain": [
              "            Date   Close    Spread   %Change       Volume  Prediksi\n",
              "0     2015-01-02  2860.0  1.223776 -0.866551   18992100.0       NaN\n",
              "1     2015-01-05  2835.0  1.058201 -0.526316   49940700.0       NaN\n",
              "2     2015-01-06  2815.0  1.243339  0.177936   47892100.0       NaN\n",
              "3     2015-01-07  2810.0  2.669039 -1.919721   70076600.0       NaN\n",
              "4     2015-01-08  2835.0  0.705467 -0.176056   56582500.0       NaN\n",
              "...          ...     ...       ...       ...          ...       ...\n",
              "1642  2021-07-26  3190.0  1.880878  1.592357   55525800.0       NaN\n",
              "1643  2021-07-27  3270.0  3.363914  1.869159   62673400.0       NaN\n",
              "1644  2021-07-28  3190.0  3.134796 -1.846154  103282300.0       NaN\n",
              "1645  2021-07-29  3230.0  2.786378  0.623053  126542400.0       NaN\n",
              "1646  2021-07-30  3240.0  2.777778  1.250000   95143100.0       NaN\n",
              "\n",
              "[1647 rows x 6 columns]"
            ]
          },
          "metadata": {
            "tags": []
          },
          "execution_count": 955
        }
      ]
    },
    {
      "cell_type": "code",
      "metadata": {
        "colab": {
          "base_uri": "https://localhost:8080/",
          "height": 440
        },
        "id": "s1bH-HA6otOH",
        "outputId": "5bcc4efd-876a-4c2e-c234-c7c422969242"
      },
      "source": [
        "data_baru.index = pd.to_datetime(data_baru.Date)\n",
        "data_baru"
      ],
      "execution_count": 956,
      "outputs": [
        {
          "output_type": "execute_result",
          "data": {
            "text/html": [
              "<div>\n",
              "<style scoped>\n",
              "    .dataframe tbody tr th:only-of-type {\n",
              "        vertical-align: middle;\n",
              "    }\n",
              "\n",
              "    .dataframe tbody tr th {\n",
              "        vertical-align: top;\n",
              "    }\n",
              "\n",
              "    .dataframe thead th {\n",
              "        text-align: right;\n",
              "    }\n",
              "</style>\n",
              "<table border=\"1\" class=\"dataframe\">\n",
              "  <thead>\n",
              "    <tr style=\"text-align: right;\">\n",
              "      <th></th>\n",
              "      <th>Date</th>\n",
              "      <th>Close</th>\n",
              "      <th>Spread</th>\n",
              "      <th>%Change</th>\n",
              "      <th>Volume</th>\n",
              "      <th>Prediksi</th>\n",
              "    </tr>\n",
              "    <tr>\n",
              "      <th>Date</th>\n",
              "      <th></th>\n",
              "      <th></th>\n",
              "      <th></th>\n",
              "      <th></th>\n",
              "      <th></th>\n",
              "      <th></th>\n",
              "    </tr>\n",
              "  </thead>\n",
              "  <tbody>\n",
              "    <tr>\n",
              "      <th>2015-01-02</th>\n",
              "      <td>2015-01-02</td>\n",
              "      <td>2860.0</td>\n",
              "      <td>1.223776</td>\n",
              "      <td>-0.866551</td>\n",
              "      <td>18992100.0</td>\n",
              "      <td>NaN</td>\n",
              "    </tr>\n",
              "    <tr>\n",
              "      <th>2015-01-05</th>\n",
              "      <td>2015-01-05</td>\n",
              "      <td>2835.0</td>\n",
              "      <td>1.058201</td>\n",
              "      <td>-0.526316</td>\n",
              "      <td>49940700.0</td>\n",
              "      <td>NaN</td>\n",
              "    </tr>\n",
              "    <tr>\n",
              "      <th>2015-01-06</th>\n",
              "      <td>2015-01-06</td>\n",
              "      <td>2815.0</td>\n",
              "      <td>1.243339</td>\n",
              "      <td>0.177936</td>\n",
              "      <td>47892100.0</td>\n",
              "      <td>NaN</td>\n",
              "    </tr>\n",
              "    <tr>\n",
              "      <th>2015-01-07</th>\n",
              "      <td>2015-01-07</td>\n",
              "      <td>2810.0</td>\n",
              "      <td>2.669039</td>\n",
              "      <td>-1.919721</td>\n",
              "      <td>70076600.0</td>\n",
              "      <td>NaN</td>\n",
              "    </tr>\n",
              "    <tr>\n",
              "      <th>2015-01-08</th>\n",
              "      <td>2015-01-08</td>\n",
              "      <td>2835.0</td>\n",
              "      <td>0.705467</td>\n",
              "      <td>-0.176056</td>\n",
              "      <td>56582500.0</td>\n",
              "      <td>NaN</td>\n",
              "    </tr>\n",
              "    <tr>\n",
              "      <th>...</th>\n",
              "      <td>...</td>\n",
              "      <td>...</td>\n",
              "      <td>...</td>\n",
              "      <td>...</td>\n",
              "      <td>...</td>\n",
              "      <td>...</td>\n",
              "    </tr>\n",
              "    <tr>\n",
              "      <th>2021-07-26</th>\n",
              "      <td>2021-07-26</td>\n",
              "      <td>3190.0</td>\n",
              "      <td>1.880878</td>\n",
              "      <td>1.592357</td>\n",
              "      <td>55525800.0</td>\n",
              "      <td>NaN</td>\n",
              "    </tr>\n",
              "    <tr>\n",
              "      <th>2021-07-27</th>\n",
              "      <td>2021-07-27</td>\n",
              "      <td>3270.0</td>\n",
              "      <td>3.363914</td>\n",
              "      <td>1.869159</td>\n",
              "      <td>62673400.0</td>\n",
              "      <td>NaN</td>\n",
              "    </tr>\n",
              "    <tr>\n",
              "      <th>2021-07-28</th>\n",
              "      <td>2021-07-28</td>\n",
              "      <td>3190.0</td>\n",
              "      <td>3.134796</td>\n",
              "      <td>-1.846154</td>\n",
              "      <td>103282300.0</td>\n",
              "      <td>NaN</td>\n",
              "    </tr>\n",
              "    <tr>\n",
              "      <th>2021-07-29</th>\n",
              "      <td>2021-07-29</td>\n",
              "      <td>3230.0</td>\n",
              "      <td>2.786378</td>\n",
              "      <td>0.623053</td>\n",
              "      <td>126542400.0</td>\n",
              "      <td>NaN</td>\n",
              "    </tr>\n",
              "    <tr>\n",
              "      <th>2021-07-30</th>\n",
              "      <td>2021-07-30</td>\n",
              "      <td>3240.0</td>\n",
              "      <td>2.777778</td>\n",
              "      <td>1.250000</td>\n",
              "      <td>95143100.0</td>\n",
              "      <td>NaN</td>\n",
              "    </tr>\n",
              "  </tbody>\n",
              "</table>\n",
              "<p>1647 rows × 6 columns</p>\n",
              "</div>"
            ],
            "text/plain": [
              "                  Date   Close    Spread   %Change       Volume  Prediksi\n",
              "Date                                                                     \n",
              "2015-01-02  2015-01-02  2860.0  1.223776 -0.866551   18992100.0       NaN\n",
              "2015-01-05  2015-01-05  2835.0  1.058201 -0.526316   49940700.0       NaN\n",
              "2015-01-06  2015-01-06  2815.0  1.243339  0.177936   47892100.0       NaN\n",
              "2015-01-07  2015-01-07  2810.0  2.669039 -1.919721   70076600.0       NaN\n",
              "2015-01-08  2015-01-08  2835.0  0.705467 -0.176056   56582500.0       NaN\n",
              "...                ...     ...       ...       ...          ...       ...\n",
              "2021-07-26  2021-07-26  3190.0  1.880878  1.592357   55525800.0       NaN\n",
              "2021-07-27  2021-07-27  3270.0  3.363914  1.869159   62673400.0       NaN\n",
              "2021-07-28  2021-07-28  3190.0  3.134796 -1.846154  103282300.0       NaN\n",
              "2021-07-29  2021-07-29  3230.0  2.786378  0.623053  126542400.0       NaN\n",
              "2021-07-30  2021-07-30  3240.0  2.777778  1.250000   95143100.0       NaN\n",
              "\n",
              "[1647 rows x 6 columns]"
            ]
          },
          "metadata": {
            "tags": []
          },
          "execution_count": 956
        }
      ]
    },
    {
      "cell_type": "code",
      "metadata": {
        "id": "Ge2EaA-KEvYH"
      },
      "source": [
        "import time;\n",
        "import datetime"
      ],
      "execution_count": 957,
      "outputs": []
    },
    {
      "cell_type": "code",
      "metadata": {
        "colab": {
          "base_uri": "https://localhost:8080/"
        },
        "id": "38jBpe_1RiES",
        "outputId": "14975353-3164-4a12-ab0f-296a3134812a"
      },
      "source": [
        "# mendapatkan tanggal terakhir sebelum data prediksi\n",
        "tgl_terakhir = data_baru.iloc[-1].name\n",
        "tgl_terakhir\n",
        "#tgl_terakhir = time.mktime(datetime.datetime.strptime(tgl_terakhir, \"%Y-%m-%d\").timetuple())"
      ],
      "execution_count": 958,
      "outputs": [
        {
          "output_type": "execute_result",
          "data": {
            "text/plain": [
              "Timestamp('2021-07-30 00:00:00')"
            ]
          },
          "metadata": {
            "tags": []
          },
          "execution_count": 958
        }
      ]
    },
    {
      "cell_type": "code",
      "metadata": {
        "id": "Sb3r-A6FDCBF"
      },
      "source": [
        "dtk_terakhir = tgl_terakhir.timestamp()\n",
        "satu_hari = 86400 # detik =  1 hari\n",
        "dtk_selanjutnya = dtk_terakhir + satu_hari"
      ],
      "execution_count": 959,
      "outputs": []
    },
    {
      "cell_type": "code",
      "metadata": {
        "colab": {
          "base_uri": "https://localhost:8080/"
        },
        "id": "uGkqMR2Ekzgk",
        "outputId": "b42c66fc-f239-4a8a-f652-769d8db99472"
      },
      "source": [
        "# untuk semua nilai yang telah di prediksi\n",
        "for i in set_prediksi: \n",
        "  # hitung tanggal selanjutnya\n",
        "  tgl_selanjutnya = datetime.datetime.fromtimestamp(dtk_selanjutnya) \n",
        "  # tambahkan detik selanjutnya menjadi satu hari berikutnya\n",
        "  dtk_selanjutnya += 86400 \n",
        "  # tambahkan elemen i (nilai prediksi)\n",
        "  data_baru.loc[tgl_selanjutnya] = [np.nan for _ in range(len(data_baru.columns)-1)]+[i] "
      ],
      "execution_count": 960,
      "outputs": [
        {
          "output_type": "stream",
          "text": [
            "/usr/local/lib/python3.7/dist-packages/pandas/core/indexing.py:670: SettingWithCopyWarning: \n",
            "A value is trying to be set on a copy of a slice from a DataFrame\n",
            "\n",
            "See the caveats in the documentation: https://pandas.pydata.org/pandas-docs/stable/user_guide/indexing.html#returning-a-view-versus-a-copy\n",
            "  iloc._setitem_with_indexer(indexer, value)\n"
          ],
          "name": "stderr"
        }
      ]
    },
    {
      "cell_type": "markdown",
      "metadata": {
        "id": "L9uhbsepp2T5"
      },
      "source": [
        "Membuat gambar grafik pada prediksi Harga Close Saham Telkomsel dengan menggunakan plot()"
      ]
    },
    {
      "cell_type": "code",
      "metadata": {
        "colab": {
          "base_uri": "https://localhost:8080/",
          "height": 285
        },
        "id": "IjvLB_AdViEj",
        "outputId": "1ac9c8a1-3228-49cf-e532-a5be8f4ac4cd"
      },
      "source": [
        "data_baru['Close'].plot()\n",
        "data_baru['Prediksi'].plot()\n",
        "plt.legend()\n",
        "plt.xlabel('Tahun')\n",
        "plt.ylabel('Harga')\n",
        "plt.title('Prediksi Harga Close Saham TLKM.JK')\n",
        "plt.show()"
      ],
      "execution_count": 961,
      "outputs": [
        {
          "output_type": "display_data",
          "data": {
            "image/png": "[encoded data removed]",
            "text/plain": [
              "<Figure size 432x288 with 1 Axes>"
            ]
          },
          "metadata": {
            "tags": [],
            "needs_background": "light"
          }
        }
      ]
    }
  ]
}